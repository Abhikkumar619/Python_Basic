{
 "cells": [
  {
   "cell_type": "code",
   "execution_count": 1,
   "id": "4f40c48a-10b9-4f25-bbf5-a7618a03e577",
   "metadata": {},
   "outputs": [],
   "source": [
    "def test1():\n",
    "    print(\"hello this is abishek kumar yadav\")"
   ]
  },
  {
   "cell_type": "code",
   "execution_count": 2,
   "id": "233e026b-d0ac-473c-9001-d1e2d9c83026",
   "metadata": {},
   "outputs": [
    {
     "name": "stdout",
     "output_type": "stream",
     "text": [
      "hello this is abishek kumar yadav\n"
     ]
    }
   ],
   "source": [
    "test1()"
   ]
  },
  {
   "cell_type": "code",
   "execution_count": 3,
   "id": "689154c0-a27a-4909-a271-87d6bf771ef2",
   "metadata": {},
   "outputs": [
    {
     "ename": "NameError",
     "evalue": "name 'test' is not defined",
     "output_type": "error",
     "traceback": [
      "\u001b[0;31m---------------------------------------------------------------------------\u001b[0m",
      "\u001b[0;31mNameError\u001b[0m                                 Traceback (most recent call last)",
      "Cell \u001b[0;32mIn[3], line 1\u001b[0m\n\u001b[0;32m----> 1\u001b[0m \u001b[43mtest\u001b[49m()\u001b[38;5;241m+\u001b[39m\u001b[38;5;124m\"\u001b[39m\u001b[38;5;124myadav\u001b[39m\u001b[38;5;124m\"\u001b[39m\n",
      "\u001b[0;31mNameError\u001b[0m: name 'test' is not defined"
     ]
    }
   ],
   "source": [
    "test()+\"yadav\"  #print alawys return non type data."
   ]
  },
  {
   "cell_type": "code",
   "execution_count": 4,
   "id": "6cc477ac-d805-4c71-b415-3ca514b90f41",
   "metadata": {},
   "outputs": [],
   "source": [
    "def test2():\n",
    "    return \"this is my first return \"\n"
   ]
  },
  {
   "cell_type": "code",
   "execution_count": 5,
   "id": "de9f8332-7caf-4f69-9a1a-4e54080c42c4",
   "metadata": {},
   "outputs": [
    {
     "data": {
      "text/plain": [
       "'this is my first return '"
      ]
     },
     "execution_count": 5,
     "metadata": {},
     "output_type": "execute_result"
    }
   ],
   "source": [
    "test2()"
   ]
  },
  {
   "cell_type": "code",
   "execution_count": 7,
   "id": "b883d949-b206-4885-9409-57fc0fab7662",
   "metadata": {},
   "outputs": [
    {
     "data": {
      "text/plain": [
       "'this is my first return abishek'"
      ]
     },
     "execution_count": 7,
     "metadata": {},
     "output_type": "execute_result"
    }
   ],
   "source": [
    "test2()+\"abishek\"  #return keyword return according to datatype."
   ]
  },
  {
   "cell_type": "code",
   "execution_count": 8,
   "id": "db9c0dff-9087-4a66-80a1-4a94a0203e9e",
   "metadata": {},
   "outputs": [],
   "source": [
    "def test3():\n",
    "    return \"abisbek\", 32, 42.2 , [1,2,'1']"
   ]
  },
  {
   "cell_type": "code",
   "execution_count": 9,
   "id": "85ec3232-e1dc-4140-80d1-60aa36a02086",
   "metadata": {},
   "outputs": [
    {
     "data": {
      "text/plain": [
       "('abisbek', 32, 42.2, [1, 2, '1'])"
      ]
     },
     "execution_count": 9,
     "metadata": {},
     "output_type": "execute_result"
    }
   ],
   "source": [
    "test3()"
   ]
  },
  {
   "cell_type": "code",
   "execution_count": 10,
   "id": "256e619f-74e7-42bf-99e8-49241d85b2e9",
   "metadata": {},
   "outputs": [],
   "source": [
    "a,b,c,d=test3()"
   ]
  },
  {
   "cell_type": "code",
   "execution_count": 11,
   "id": "09928a56-7a92-42e9-9de9-1a6f552eebf8",
   "metadata": {},
   "outputs": [
    {
     "data": {
      "text/plain": [
       "'abisbek'"
      ]
     },
     "execution_count": 11,
     "metadata": {},
     "output_type": "execute_result"
    }
   ],
   "source": [
    "a"
   ]
  },
  {
   "cell_type": "code",
   "execution_count": 12,
   "id": "d4480b1b-fd17-4903-afc5-7c300ea6fa2c",
   "metadata": {},
   "outputs": [
    {
     "data": {
      "text/plain": [
       "32"
      ]
     },
     "execution_count": 12,
     "metadata": {},
     "output_type": "execute_result"
    }
   ],
   "source": [
    "b"
   ]
  },
  {
   "cell_type": "code",
   "execution_count": 13,
   "id": "85a8279b-9dbe-4b60-8997-897b05fd991f",
   "metadata": {},
   "outputs": [
    {
     "data": {
      "text/plain": [
       "42.2"
      ]
     },
     "execution_count": 13,
     "metadata": {},
     "output_type": "execute_result"
    }
   ],
   "source": [
    "c\n"
   ]
  },
  {
   "cell_type": "code",
   "execution_count": 14,
   "id": "f3f63879-22cb-4e00-9781-72906afa2b44",
   "metadata": {},
   "outputs": [
    {
     "data": {
      "text/plain": [
       "[1, 2, '1']"
      ]
     },
     "execution_count": 14,
     "metadata": {},
     "output_type": "execute_result"
    }
   ],
   "source": [
    "d"
   ]
  },
  {
   "cell_type": "code",
   "execution_count": 15,
   "id": "7dc66b5e-0bc7-4426-aabc-c51fd90402b7",
   "metadata": {},
   "outputs": [],
   "source": [
    "a,b=2,3"
   ]
  },
  {
   "cell_type": "code",
   "execution_count": 16,
   "id": "6e5e9cb5-6bd9-4a84-8431-9048f8f33b7b",
   "metadata": {},
   "outputs": [
    {
     "data": {
      "text/plain": [
       "2"
      ]
     },
     "execution_count": 16,
     "metadata": {},
     "output_type": "execute_result"
    }
   ],
   "source": [
    "a"
   ]
  },
  {
   "cell_type": "code",
   "execution_count": 17,
   "id": "0a854a14-c619-49f8-92d6-b2dc167606df",
   "metadata": {},
   "outputs": [
    {
     "data": {
      "text/plain": [
       "3"
      ]
     },
     "execution_count": 17,
     "metadata": {},
     "output_type": "execute_result"
    }
   ],
   "source": [
    "b"
   ]
  },
  {
   "cell_type": "code",
   "execution_count": 18,
   "id": "60beca37-ae98-4f5b-bc3d-6c3937821d73",
   "metadata": {},
   "outputs": [],
   "source": [
    "def test4():\n",
    "    a=5+6\n",
    "    return a\n"
   ]
  },
  {
   "cell_type": "code",
   "execution_count": 19,
   "id": "9fa704f9-654b-4005-bd43-e38acd85f1bb",
   "metadata": {},
   "outputs": [
    {
     "data": {
      "text/plain": [
       "11"
      ]
     },
     "execution_count": 19,
     "metadata": {},
     "output_type": "execute_result"
    }
   ],
   "source": [
    "test4()"
   ]
  },
  {
   "cell_type": "code",
   "execution_count": 20,
   "id": "43cb590e-23b5-4611-986d-3d4035c9e19e",
   "metadata": {},
   "outputs": [],
   "source": [
    "def test5(a,b,c):\n",
    "    d=a+b/c\n",
    "    return d\n",
    "\n",
    "    "
   ]
  },
  {
   "cell_type": "code",
   "execution_count": 21,
   "id": "e8229bed-9a9c-4880-849d-7614271af838",
   "metadata": {},
   "outputs": [
    {
     "ename": "TypeError",
     "evalue": "test5() missing 3 required positional arguments: 'a', 'b', and 'c'",
     "output_type": "error",
     "traceback": [
      "\u001b[0;31m---------------------------------------------------------------------------\u001b[0m",
      "\u001b[0;31mTypeError\u001b[0m                                 Traceback (most recent call last)",
      "Cell \u001b[0;32mIn[21], line 1\u001b[0m\n\u001b[0;32m----> 1\u001b[0m \u001b[43mtest5\u001b[49m\u001b[43m(\u001b[49m\u001b[43m)\u001b[49m\n",
      "\u001b[0;31mTypeError\u001b[0m: test5() missing 3 required positional arguments: 'a', 'b', and 'c'"
     ]
    }
   ],
   "source": [
    "test5()"
   ]
  },
  {
   "cell_type": "code",
   "execution_count": 22,
   "id": "ee3e2bcb-6096-4a3c-ac5c-1508124303b0",
   "metadata": {},
   "outputs": [
    {
     "data": {
      "text/plain": [
       "2.8"
      ]
     },
     "execution_count": 22,
     "metadata": {},
     "output_type": "execute_result"
    }
   ],
   "source": [
    "test5(2,4,5)  #PASSING ARGUMENT IN THE FUNCTION."
   ]
  },
  {
   "cell_type": "code",
   "execution_count": 23,
   "id": "657bf14a-1b64-48d0-b289-43efa2f10180",
   "metadata": {},
   "outputs": [],
   "source": [
    "def test5(a,b):\n",
    "    return a+b"
   ]
  },
  {
   "cell_type": "code",
   "execution_count": 24,
   "id": "ca52e3fe-dd6e-4878-b22e-b72f28edb0e2",
   "metadata": {},
   "outputs": [
    {
     "data": {
      "text/plain": [
       "37"
      ]
     },
     "execution_count": 24,
     "metadata": {},
     "output_type": "execute_result"
    }
   ],
   "source": [
    "test5(3,34)"
   ]
  },
  {
   "cell_type": "code",
   "execution_count": 29,
   "id": "1fe11aae-cfc0-4ebf-bc2c-b6997aadd8f1",
   "metadata": {},
   "outputs": [],
   "source": [
    "def test6(a,b):\n",
    "    return a+b\n"
   ]
  },
  {
   "cell_type": "code",
   "execution_count": 30,
   "id": "0fdd53fc-6a30-4ac6-8c35-ae2e86149463",
   "metadata": {},
   "outputs": [
    {
     "data": {
      "text/plain": [
       "'abishekkumar'"
      ]
     },
     "execution_count": 30,
     "metadata": {},
     "output_type": "execute_result"
    }
   ],
   "source": [
    "test6(\"abishek\", \"kumar\")"
   ]
  },
  {
   "cell_type": "code",
   "execution_count": 32,
   "id": "283b88c3-7caa-4f58-a557-3e190df0a5f5",
   "metadata": {},
   "outputs": [
    {
     "data": {
      "text/plain": [
       "[12, 4, 2, 4, 1, 7, 6, 4, 27, 8]"
      ]
     },
     "execution_count": 32,
     "metadata": {},
     "output_type": "execute_result"
    }
   ],
   "source": [
    "test6([12,4,2,4],[1,7,6,4,27,8])"
   ]
  },
  {
   "cell_type": "code",
   "execution_count": 33,
   "id": "4684432f-c182-4f9c-9805-9d4a9a5f2ca1",
   "metadata": {},
   "outputs": [],
   "source": [
    "l=[1,3,5,\"abishek\",\"kumar\",[1,3,4,2,]]"
   ]
  },
  {
   "cell_type": "code",
   "execution_count": 42,
   "id": "70efc7b3-ebdb-4c36-936d-7f57e8d8abaf",
   "metadata": {},
   "outputs": [],
   "source": [
    "def test7():\n",
    "    l1=[]\n",
    "    for i in l:\n",
    "        if type(i)==int or type(i)==float:\n",
    "            l1.append(i)\n",
    "    return l1"
   ]
  },
  {
   "cell_type": "code",
   "execution_count": 43,
   "id": "e07f0b1a-67c1-4b46-ba6c-14f0b27c43a7",
   "metadata": {},
   "outputs": [
    {
     "data": {
      "text/plain": [
       "[1, 3, 5]"
      ]
     },
     "execution_count": 43,
     "metadata": {},
     "output_type": "execute_result"
    }
   ],
   "source": [
    "test7()"
   ]
  },
  {
   "cell_type": "code",
   "execution_count": 44,
   "id": "9a7e925c-bc06-4bdb-8d7c-b29c33c19daa",
   "metadata": {},
   "outputs": [
    {
     "data": {
      "text/plain": [
       "[1, 3, 5, 'abishek', 'kumar', [1, 3, 4, 2]]"
      ]
     },
     "execution_count": 44,
     "metadata": {},
     "output_type": "execute_result"
    }
   ],
   "source": [
    "l"
   ]
  },
  {
   "cell_type": "code",
   "execution_count": 60,
   "id": "023e1e54-75b6-4332-81b2-7735e27512c1",
   "metadata": {},
   "outputs": [],
   "source": [
    "def test8(a):\n",
    "    \"\"\"\"this is my function to extract run data in the list\"\"\"\n",
    "    l=[]\n",
    "    for i in a:\n",
    "        if type(i)==int or type(i)==float:\n",
    "            l.append(i)\n",
    "        else:\n",
    "            if type(i)==list:\n",
    "                for j in i:\n",
    "                    l.append(j)\n",
    "    return l"
   ]
  },
  {
   "cell_type": "code",
   "execution_count": 56,
   "id": "50d30f6a-c723-483e-9634-0ea41d21c853",
   "metadata": {},
   "outputs": [
    {
     "data": {
      "text/plain": [
       "[1, 3, 5, 1, 3, 4, 2]"
      ]
     },
     "execution_count": 56,
     "metadata": {},
     "output_type": "execute_result"
    }
   ],
   "source": [
    "test8()"
   ]
  },
  {
   "cell_type": "code",
   "execution_count": 57,
   "id": "10cf00b3-76f7-4b0d-b351-d2a08c6f6304",
   "metadata": {},
   "outputs": [
    {
     "ename": "TypeError",
     "evalue": "test8() missing 1 required positional argument: 'a'",
     "output_type": "error",
     "traceback": [
      "\u001b[0;31m---------------------------------------------------------------------------\u001b[0m",
      "\u001b[0;31mTypeError\u001b[0m                                 Traceback (most recent call last)",
      "Cell \u001b[0;32mIn[57], line 1\u001b[0m\n\u001b[0;32m----> 1\u001b[0m \u001b[43mtest8\u001b[49m\u001b[43m(\u001b[49m\u001b[43m)\u001b[49m\n",
      "\u001b[0;31mTypeError\u001b[0m: test8() missing 1 required positional argument: 'a'"
     ]
    }
   ],
   "source": []
  },
  {
   "cell_type": "code",
   "execution_count": 62,
   "id": "c8237bab-01ca-4384-a940-35dfe311bb47",
   "metadata": {},
   "outputs": [],
   "source": [
    "def test9(a,b):\n",
    "    return a+b"
   ]
  },
  {
   "cell_type": "code",
   "execution_count": 64,
   "id": "04d7f1a2-8c18-415e-84f4-954490976899",
   "metadata": {},
   "outputs": [
    {
     "data": {
      "text/plain": [
       "9"
      ]
     },
     "execution_count": 64,
     "metadata": {},
     "output_type": "execute_result"
    }
   ],
   "source": [
    "test9(2,7)\n"
   ]
  },
  {
   "cell_type": "code",
   "execution_count": 67,
   "id": "2349dd43-7eda-4a75-9350-573d8a9f1efd",
   "metadata": {},
   "outputs": [],
   "source": [
    "def test10(*args):\n",
    "    return args"
   ]
  },
  {
   "cell_type": "code",
   "execution_count": 68,
   "id": "c92ba1e2-c6be-40e6-a315-1c9b46ff8a56",
   "metadata": {},
   "outputs": [
    {
     "data": {
      "text/plain": [
       "tuple"
      ]
     },
     "execution_count": 68,
     "metadata": {},
     "output_type": "execute_result"
    }
   ],
   "source": [
    "type(test10())"
   ]
  },
  {
   "cell_type": "code",
   "execution_count": 70,
   "id": "5c38fa10-df9b-4b29-a7e0-62d7a36f5283",
   "metadata": {},
   "outputs": [
    {
     "data": {
      "text/plain": [
       "(1, 2, 4, 6, 8)"
      ]
     },
     "execution_count": 70,
     "metadata": {},
     "output_type": "execute_result"
    }
   ],
   "source": [
    "test10(1,2,4,6,8)"
   ]
  },
  {
   "cell_type": "code",
   "execution_count": 71,
   "id": "e12f3e2d-acea-458a-8f32-51f2adb77a4b",
   "metadata": {},
   "outputs": [
    {
     "data": {
      "text/plain": [
       "(1, 2, 3, 4, 6, 5, 4, 2, 1, 3, 4)"
      ]
     },
     "execution_count": 71,
     "metadata": {},
     "output_type": "execute_result"
    }
   ],
   "source": [
    "test(1,2,3,4,6,5,4,2,1,3,4)"
   ]
  },
  {
   "cell_type": "code",
   "execution_count": 72,
   "id": "3a42a74f-4566-4c8f-8e42-60847baa1658",
   "metadata": {},
   "outputs": [],
   "source": [
    "def test11(*abhik):\n",
    "    return abhik\n"
   ]
  },
  {
   "cell_type": "code",
   "execution_count": 73,
   "id": "92286110-09e6-4e6d-ab0b-c0d16e100717",
   "metadata": {},
   "outputs": [
    {
     "data": {
      "text/plain": [
       "(1, 2, 3, 4, 5)"
      ]
     },
     "execution_count": 73,
     "metadata": {},
     "output_type": "execute_result"
    }
   ],
   "source": [
    "test11(1,2,3,4,5)"
   ]
  },
  {
   "cell_type": "code",
   "execution_count": 74,
   "id": "6010bac9-c13a-410e-85a0-92904f14518c",
   "metadata": {},
   "outputs": [],
   "source": [
    "def test13(*args, a):\n",
    "    return args, a\n",
    "    "
   ]
  },
  {
   "cell_type": "code",
   "execution_count": 75,
   "id": "b56d9521-09e3-4846-abf1-92aa40674f25",
   "metadata": {},
   "outputs": [
    {
     "ename": "TypeError",
     "evalue": "test13() missing 1 required keyword-only argument: 'a'",
     "output_type": "error",
     "traceback": [
      "\u001b[0;31m---------------------------------------------------------------------------\u001b[0m",
      "\u001b[0;31mTypeError\u001b[0m                                 Traceback (most recent call last)",
      "Cell \u001b[0;32mIn[75], line 1\u001b[0m\n\u001b[0;32m----> 1\u001b[0m \u001b[43mtest13\u001b[49m\u001b[43m(\u001b[49m\u001b[38;5;241;43m1\u001b[39;49m\u001b[43m,\u001b[49m\u001b[38;5;241;43m2\u001b[39;49m\u001b[43m,\u001b[49m\u001b[38;5;241;43m4\u001b[39;49m\u001b[43m)\u001b[49m\n",
      "\u001b[0;31mTypeError\u001b[0m: test13() missing 1 required keyword-only argument: 'a'"
     ]
    }
   ],
   "source": [
    "test13(1,2,4)"
   ]
  },
  {
   "cell_type": "code",
   "execution_count": 77,
   "id": "11c075a1-5f89-4dc5-93f6-e73906f964f2",
   "metadata": {},
   "outputs": [],
   "source": [
    "def test12(*args, a=12):\n",
    "    return args,a"
   ]
  },
  {
   "cell_type": "code",
   "execution_count": 78,
   "id": "08083859-7f5a-4421-be1a-4e534823a571",
   "metadata": {},
   "outputs": [
    {
     "data": {
      "text/plain": [
       "((13, 4), 12)"
      ]
     },
     "execution_count": 78,
     "metadata": {},
     "output_type": "execute_result"
    }
   ],
   "source": [
    "test12(13,4)"
   ]
  },
  {
   "cell_type": "code",
   "execution_count": 79,
   "id": "688e393e-e454-4031-ad8d-5668eccdba6f",
   "metadata": {},
   "outputs": [],
   "source": [
    "def test14(a,b,c=12,d=14):\n",
    "    return a,b,c,d"
   ]
  },
  {
   "cell_type": "code",
   "execution_count": 81,
   "id": "bd32dee5-9411-49c3-aa55-e180ba658077",
   "metadata": {},
   "outputs": [
    {
     "data": {
      "text/plain": [
       "(1, 3, 12, 14)"
      ]
     },
     "execution_count": 81,
     "metadata": {},
     "output_type": "execute_result"
    }
   ],
   "source": [
    "test14(1,3)"
   ]
  },
  {
   "cell_type": "code",
   "execution_count": 82,
   "id": "f300016c-2fe4-4a24-af77-4178cb4b572e",
   "metadata": {},
   "outputs": [
    {
     "data": {
      "text/plain": [
       "(1, 3, 32, 42)"
      ]
     },
     "execution_count": 82,
     "metadata": {},
     "output_type": "execute_result"
    }
   ],
   "source": [
    "test14(1,3,32,42) # overwrite the value of c and d"
   ]
  },
  {
   "cell_type": "code",
   "execution_count": 88,
   "id": "5249ce43-d3ab-4ec3-a330-cd1b7ca04008",
   "metadata": {},
   "outputs": [],
   "source": [
    "def test15(**kwargs):\n",
    "    return kwargs\n",
    "    "
   ]
  },
  {
   "cell_type": "code",
   "execution_count": 89,
   "id": "291022e2-6302-4f82-bc30-f5f579dd399c",
   "metadata": {},
   "outputs": [
    {
     "data": {
      "text/plain": [
       "{'a': [1, 2, 3], 'b': 'abhik', 'c': 12.3}"
      ]
     },
     "execution_count": 89,
     "metadata": {},
     "output_type": "execute_result"
    }
   ],
   "source": [
    "test15(a=[1,2,3],b=\"abhik\",c=12.3)"
   ]
  },
  {
   "cell_type": "code",
   "execution_count": 98,
   "id": "6ad1d0a1-c7c4-48c1-9531-c79eec38fbd8",
   "metadata": {},
   "outputs": [
    {
     "name": "stdout",
     "output_type": "stream",
     "text": [
      "I\n",
      "Want\n",
      "To\n",
      "Become\n",
      "A\n",
      "Data\n",
      "Scientist\n"
     ]
    }
   ],
   "source": []
  },
  {
   "cell_type": "code",
   "execution_count": 1,
   "id": "8f41327a-ebdf-4315-880b-91f76815fd74",
   "metadata": {},
   "outputs": [],
   "source": [
    "def hello_w(*args):\n",
    "    return args\n"
   ]
  },
  {
   "cell_type": "code",
   "execution_count": 2,
   "id": "c66754eb-655b-4f9f-8609-fde1c8c0feee",
   "metadata": {},
   "outputs": [
    {
     "data": {
      "text/plain": [
       "(1, 2, 3)"
      ]
     },
     "execution_count": 2,
     "metadata": {},
     "output_type": "execute_result"
    }
   ],
   "source": [
    "hello_w(1,2,3)"
   ]
  },
  {
   "cell_type": "code",
   "execution_count": 4,
   "id": "f2598805-ce15-4a06-9a81-97afdcace62b",
   "metadata": {},
   "outputs": [
    {
     "data": {
      "text/plain": [
       "(1, 2, 'a', [1, 2])"
      ]
     },
     "execution_count": 4,
     "metadata": {},
     "output_type": "execute_result"
    }
   ],
   "source": [
    "hello_w(1,2,'a',[1,2])"
   ]
  },
  {
   "cell_type": "code",
   "execution_count": null,
   "id": "02e238a9-406c-4181-9bcf-70d2cb7d644e",
   "metadata": {},
   "outputs": [],
   "source": []
  }
 ],
 "metadata": {
  "kernelspec": {
   "display_name": "Python 3 (ipykernel)",
   "language": "python",
   "name": "python3"
  },
  "language_info": {
   "codemirror_mode": {
    "name": "ipython",
    "version": 3
   },
   "file_extension": ".py",
   "mimetype": "text/x-python",
   "name": "python",
   "nbconvert_exporter": "python",
   "pygments_lexer": "ipython3",
   "version": "3.10.8"
  }
 },
 "nbformat": 4,
 "nbformat_minor": 5
}
