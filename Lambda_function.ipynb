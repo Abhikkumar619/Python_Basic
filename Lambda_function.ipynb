{
 "cells": [
  {
   "cell_type": "code",
   "execution_count": 2,
   "id": "f8b3fa8b-9b6b-446a-b980-738966adeae7",
   "metadata": {},
   "outputs": [],
   "source": [
    "a=lambda n,p:n**p"
   ]
  },
  {
   "cell_type": "code",
   "execution_count": 3,
   "id": "bbfa5a62-706a-475b-a128-832fcf433adc",
   "metadata": {},
   "outputs": [
    {
     "data": {
      "text/plain": [
       "15625"
      ]
     },
     "execution_count": 3,
     "metadata": {},
     "output_type": "execute_result"
    }
   ],
   "source": [
    "a(5,6)"
   ]
  },
  {
   "cell_type": "code",
   "execution_count": 4,
   "id": "15f48467-5646-469b-b602-ccd94989e4b3",
   "metadata": {},
   "outputs": [],
   "source": [
    "add=lambda a,y:a+y"
   ]
  },
  {
   "cell_type": "code",
   "execution_count": 5,
   "id": "442c4445-a1b6-439e-a454-56327854f6bb",
   "metadata": {},
   "outputs": [
    {
     "data": {
      "text/plain": [
       "3"
      ]
     },
     "execution_count": 5,
     "metadata": {},
     "output_type": "execute_result"
    }
   ],
   "source": [
    "add(1,2)"
   ]
  },
  {
   "cell_type": "code",
   "execution_count": 11,
   "id": "565b4949-008c-4cd2-a94a-716ad0fef6b9",
   "metadata": {},
   "outputs": [],
   "source": [
    "c_to_f=lambda c: (9/5)*c+32"
   ]
  },
  {
   "cell_type": "code",
   "execution_count": 12,
   "id": "f07823c3-3559-4b8a-9411-ae5df495b564",
   "metadata": {},
   "outputs": [
    {
     "data": {
      "text/plain": [
       "96.8"
      ]
     },
     "execution_count": 12,
     "metadata": {},
     "output_type": "execute_result"
    }
   ],
   "source": [
    "c_to_f(36)"
   ]
  },
  {
   "cell_type": "code",
   "execution_count": 13,
   "id": "2212d676-3a51-4228-85ec-34855dc15a5b",
   "metadata": {},
   "outputs": [],
   "source": [
    "finding_max=lambda x,y: x if x>y else y"
   ]
  },
  {
   "cell_type": "code",
   "execution_count": 14,
   "id": "dc0f5059-82f9-4513-8feb-716cd6735bf1",
   "metadata": {},
   "outputs": [
    {
     "data": {
      "text/plain": [
       "4"
      ]
     },
     "execution_count": 14,
     "metadata": {},
     "output_type": "execute_result"
    }
   ],
   "source": [
    "finding_max(3,4)"
   ]
  },
  {
   "cell_type": "code",
   "execution_count": 15,
   "id": "9699981e-0599-44f2-8a46-423a8d503e45",
   "metadata": {},
   "outputs": [],
   "source": [
    "s=\"pwskils\""
   ]
  },
  {
   "cell_type": "code",
   "execution_count": 16,
   "id": "090c4cc4-c8d0-49ab-9368-26b8337948b5",
   "metadata": {},
   "outputs": [],
   "source": [
    "find=lambda a: len(s)"
   ]
  },
  {
   "cell_type": "code",
   "execution_count": 17,
   "id": "0240e496-9c50-4a78-8c64-7d0f08e43006",
   "metadata": {},
   "outputs": [
    {
     "data": {
      "text/plain": [
       "7"
      ]
     },
     "execution_count": 17,
     "metadata": {},
     "output_type": "execute_result"
    }
   ],
   "source": [
    "find(s)"
   ]
  },
  {
   "cell_type": "code",
   "execution_count": null,
   "id": "5e1e80ab-1f9a-42b2-a181-9da1b1027281",
   "metadata": {},
   "outputs": [],
   "source": []
  }
 ],
 "metadata": {
  "kernelspec": {
   "display_name": "Python 3 (ipykernel)",
   "language": "python",
   "name": "python3"
  },
  "language_info": {
   "codemirror_mode": {
    "name": "ipython",
    "version": 3
   },
   "file_extension": ".py",
   "mimetype": "text/x-python",
   "name": "python",
   "nbconvert_exporter": "python",
   "pygments_lexer": "ipython3",
   "version": "3.10.8"
  }
 },
 "nbformat": 4,
 "nbformat_minor": 5
}
