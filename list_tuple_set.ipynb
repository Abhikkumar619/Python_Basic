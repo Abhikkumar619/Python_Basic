{
 "cells": [
  {
   "cell_type": "code",
   "execution_count": 6,
   "id": "a3dad9f4-549c-4ab2-90d2-11cded19e3ad",
   "metadata": {},
   "outputs": [],
   "source": [
    "a1=[1,4]   # list is the collection of data in particular variable. it store in big bracket."
   ]
  },
  {
   "cell_type": "code",
   "execution_count": 9,
   "id": "8301ee9b-0e04-4ee0-b9e4-77a3d511f6cd",
   "metadata": {},
   "outputs": [],
   "source": [
    "a1.reverse()"
   ]
  },
  {
   "cell_type": "code",
   "execution_count": 10,
   "id": "8d1b2eb6-0f60-4abf-87a4-41848f46becb",
   "metadata": {},
   "outputs": [
    {
     "data": {
      "text/plain": [
       "list"
      ]
     },
     "execution_count": 10,
     "metadata": {},
     "output_type": "execute_result"
    }
   ],
   "source": [
    "type(a1)"
   ]
  },
  {
   "cell_type": "code",
   "execution_count": 7,
   "id": "572b1ecb-fc47-4b8c-8a8b-a3e661cd774b",
   "metadata": {},
   "outputs": [],
   "source": [
    "a1.insert(1,['a','b'])"
   ]
  },
  {
   "cell_type": "code",
   "execution_count": 100,
   "id": "22fca76d-83e2-48b0-9408-a7430bc9d2b3",
   "metadata": {},
   "outputs": [],
   "source": [
    "a1.insert(1,['c','d'])"
   ]
  },
  {
   "cell_type": "code",
   "execution_count": 8,
   "id": "5eb0f5a3-a6da-42bc-b6d7-bd734a3dce38",
   "metadata": {},
   "outputs": [],
   "source": [
    "a1.reverse()"
   ]
  },
  {
   "cell_type": "code",
   "execution_count": 9,
   "id": "27b1a1da-bf8f-4c13-9faa-dedcf28b3d9d",
   "metadata": {},
   "outputs": [
    {
     "data": {
      "text/plain": [
       "[4, ['a', 'b'], 1]"
      ]
     },
     "execution_count": 9,
     "metadata": {},
     "output_type": "execute_result"
    }
   ],
   "source": [
    "a1"
   ]
  },
  {
   "cell_type": "code",
   "execution_count": 15,
   "id": "115a237c-75ec-42d7-b6d6-b63ef471599a",
   "metadata": {},
   "outputs": [],
   "source": [
    "a1.append(5)"
   ]
  },
  {
   "cell_type": "code",
   "execution_count": 16,
   "id": "2dc1a620-d814-4ad7-a634-a085f4545093",
   "metadata": {},
   "outputs": [
    {
     "data": {
      "text/plain": [
       "[4, 1, 5]"
      ]
     },
     "execution_count": 16,
     "metadata": {},
     "output_type": "execute_result"
    }
   ],
   "source": [
    "a1"
   ]
  },
  {
   "cell_type": "code",
   "execution_count": 18,
   "id": "e7a3dc28-855c-42cf-af92-84985db4b2a0",
   "metadata": {},
   "outputs": [],
   "source": [
    "a1.sort()"
   ]
  },
  {
   "cell_type": "code",
   "execution_count": 19,
   "id": "1eb27b79-38d3-4c5d-b460-048cc5f7e615",
   "metadata": {},
   "outputs": [
    {
     "data": {
      "text/plain": [
       "[1, 4, 5]"
      ]
     },
     "execution_count": 19,
     "metadata": {},
     "output_type": "execute_result"
    }
   ],
   "source": [
    "a1"
   ]
  },
  {
   "cell_type": "code",
   "execution_count": 1,
   "id": "28b12e6c-f932-4f2e-8442-dca7a335c6c8",
   "metadata": {},
   "outputs": [],
   "source": [
    "a3=[1,\"abishek\",3,\"s\"]"
   ]
  },
  {
   "cell_type": "code",
   "execution_count": 3,
   "id": "6a3cbdef-2b8f-4d61-94dd-8c4838f1d8e5",
   "metadata": {},
   "outputs": [
    {
     "data": {
      "text/plain": [
       "'bi'"
      ]
     },
     "execution_count": 3,
     "metadata": {},
     "output_type": "execute_result"
    }
   ],
   "source": [
    "a3[1][1:3]"
   ]
  },
  {
   "cell_type": "code",
   "execution_count": 10,
   "id": "4ecd113e-cdca-46af-86a4-39fc06b983db",
   "metadata": {},
   "outputs": [],
   "source": [
    "a4=[\"abishek\",\"datascience\", \"pop\"]"
   ]
  },
  {
   "cell_type": "code",
   "execution_count": 24,
   "id": "3d4e404b-47e3-44e9-abf6-b8e35bfe39ce",
   "metadata": {},
   "outputs": [
    {
     "data": {
      "text/plain": [
       "['abishek', 'datascience', 'pop']"
      ]
     },
     "execution_count": 24,
     "metadata": {},
     "output_type": "execute_result"
    }
   ],
   "source": [
    "a4"
   ]
  },
  {
   "cell_type": "code",
   "execution_count": 25,
   "id": "a958304b-4cd6-46ad-8d7a-6c9c9b34a94c",
   "metadata": {},
   "outputs": [],
   "source": [
    "a4.sort()"
   ]
  },
  {
   "cell_type": "code",
   "execution_count": 26,
   "id": "29de2f65-7863-404f-a535-5ce0a8770d50",
   "metadata": {},
   "outputs": [
    {
     "data": {
      "text/plain": [
       "['abishek', 'datascience', 'pop']"
      ]
     },
     "execution_count": 26,
     "metadata": {},
     "output_type": "execute_result"
    }
   ],
   "source": [
    "a4"
   ]
  },
  {
   "cell_type": "code",
   "execution_count": 11,
   "id": "270b9bde-4a3f-4994-91c1-01a7087c4339",
   "metadata": {},
   "outputs": [
    {
     "data": {
      "text/plain": [
       "0"
      ]
     },
     "execution_count": 11,
     "metadata": {},
     "output_type": "execute_result"
    }
   ],
   "source": [
    "a4.index(\"abishek\")"
   ]
  },
  {
   "cell_type": "code",
   "execution_count": 29,
   "id": "0ecbe806-f626-4c2a-becf-dc1d8df1c85a",
   "metadata": {},
   "outputs": [
    {
     "data": {
      "text/plain": [
       "1"
      ]
     },
     "execution_count": 29,
     "metadata": {},
     "output_type": "execute_result"
    }
   ],
   "source": [
    "a4.count('abishek')"
   ]
  },
  {
   "cell_type": "code",
   "execution_count": 30,
   "id": "4a374e3d-7607-4e2d-9351-4ac8aa32996f",
   "metadata": {},
   "outputs": [],
   "source": [
    "a=\"abishek\"\n"
   ]
  },
  {
   "cell_type": "code",
   "execution_count": 31,
   "id": "acbdffdf-030f-4f4a-96be-27b7378ffc3d",
   "metadata": {},
   "outputs": [
    {
     "data": {
      "text/plain": [
       "'abishek'"
      ]
     },
     "execution_count": 31,
     "metadata": {},
     "output_type": "execute_result"
    }
   ],
   "source": [
    "a"
   ]
  },
  {
   "cell_type": "code",
   "execution_count": 32,
   "id": "bf4a146e-5b8c-4192-83ae-7505cd9f3cde",
   "metadata": {},
   "outputs": [
    {
     "data": {
      "text/plain": [
       "'a'"
      ]
     },
     "execution_count": 32,
     "metadata": {},
     "output_type": "execute_result"
    }
   ],
   "source": [
    "a[0]"
   ]
  },
  {
   "cell_type": "code",
   "execution_count": 33,
   "id": "36aadd6f-115a-429d-8c1f-9390010944b3",
   "metadata": {},
   "outputs": [
    {
     "ename": "TypeError",
     "evalue": "'str' object does not support item assignment",
     "output_type": "error",
     "traceback": [
      "\u001b[0;31m---------------------------------------------------------------------------\u001b[0m",
      "\u001b[0;31mTypeError\u001b[0m                                 Traceback (most recent call last)",
      "Cell \u001b[0;32mIn[33], line 1\u001b[0m\n\u001b[0;32m----> 1\u001b[0m \u001b[43ma\u001b[49m\u001b[43m[\u001b[49m\u001b[38;5;241;43m0\u001b[39;49m\u001b[43m]\u001b[49m\u001b[38;5;241m=\u001b[39m\u001b[38;5;124m'\u001b[39m\u001b[38;5;124ma\u001b[39m\u001b[38;5;124m'\u001b[39m\n",
      "\u001b[0;31mTypeError\u001b[0m: 'str' object does not support item assignment"
     ]
    }
   ],
   "source": [
    "a[0]='a'"
   ]
  },
  {
   "cell_type": "code",
   "execution_count": 34,
   "id": "9641588d-7855-4568-94f0-fb9b780dca29",
   "metadata": {},
   "outputs": [],
   "source": [
    "a5=[1,35,3,53,23]"
   ]
  },
  {
   "cell_type": "code",
   "execution_count": 35,
   "id": "7aec0344-c6ca-415f-a3f7-2873d77cba0f",
   "metadata": {},
   "outputs": [],
   "source": [
    "a5[0]=40"
   ]
  },
  {
   "cell_type": "code",
   "execution_count": 36,
   "id": "3395a24b-94d7-4268-a6c8-0a1689d99433",
   "metadata": {},
   "outputs": [
    {
     "data": {
      "text/plain": [
       "['abishek', 'datascience', 'pop']"
      ]
     },
     "execution_count": 36,
     "metadata": {},
     "output_type": "execute_result"
    }
   ],
   "source": [
    "a4"
   ]
  },
  {
   "cell_type": "code",
   "execution_count": 37,
   "id": "dfb192f5-a551-478a-bf05-9a3503907111",
   "metadata": {},
   "outputs": [
    {
     "data": {
      "text/plain": [
       "[40, 35, 3, 53, 23]"
      ]
     },
     "execution_count": 37,
     "metadata": {},
     "output_type": "execute_result"
    }
   ],
   "source": [
    "a5"
   ]
  },
  {
   "cell_type": "code",
   "execution_count": 38,
   "id": "bafacc18-4952-44e9-914c-9e079fb32511",
   "metadata": {},
   "outputs": [],
   "source": [
    "a5[3]=12   #list is mitable"
   ]
  },
  {
   "cell_type": "code",
   "execution_count": 39,
   "id": "71425bcc-94a8-4732-a4bd-a8fc9dd9c61c",
   "metadata": {},
   "outputs": [
    {
     "data": {
      "text/plain": [
       "[40, 35, 3, 12, 23]"
      ]
     },
     "execution_count": 39,
     "metadata": {},
     "output_type": "execute_result"
    }
   ],
   "source": [
    "a5"
   ]
  },
  {
   "cell_type": "code",
   "execution_count": 40,
   "id": "4bb8a499-b4ef-4bf6-b3b3-de2fdbdb810c",
   "metadata": {},
   "outputs": [],
   "source": [
    "s=\"sudansu\""
   ]
  },
  {
   "cell_type": "code",
   "execution_count": 41,
   "id": "d23114d5-d70c-4247-9ba0-718e923a10ca",
   "metadata": {},
   "outputs": [
    {
     "data": {
      "text/plain": [
       "'abishek'"
      ]
     },
     "execution_count": 41,
     "metadata": {},
     "output_type": "execute_result"
    }
   ],
   "source": [
    "a"
   ]
  },
  {
   "cell_type": "code",
   "execution_count": 42,
   "id": "339fec56-ef94-4fa1-a445-a98bfaf1b747",
   "metadata": {},
   "outputs": [
    {
     "data": {
      "text/plain": [
       "'sudansu'"
      ]
     },
     "execution_count": 42,
     "metadata": {},
     "output_type": "execute_result"
    }
   ],
   "source": [
    "s"
   ]
  },
  {
   "cell_type": "code",
   "execution_count": 43,
   "id": "811d1464-92e9-4a83-b6f9-bda97560de1e",
   "metadata": {},
   "outputs": [
    {
     "ename": "TypeError",
     "evalue": "'str' object does not support item assignment",
     "output_type": "error",
     "traceback": [
      "\u001b[0;31m---------------------------------------------------------------------------\u001b[0m",
      "\u001b[0;31mTypeError\u001b[0m                                 Traceback (most recent call last)",
      "Cell \u001b[0;32mIn[43], line 1\u001b[0m\n\u001b[0;32m----> 1\u001b[0m \u001b[43ms\u001b[49m\u001b[43m[\u001b[49m\u001b[38;5;241;43m0\u001b[39;49m\u001b[43m]\u001b[49m\u001b[38;5;241m=\u001b[39m\u001b[38;5;124m'\u001b[39m\u001b[38;5;124ma\u001b[39m\u001b[38;5;124m'\u001b[39m\n",
      "\u001b[0;31mTypeError\u001b[0m: 'str' object does not support item assignment"
     ]
    }
   ],
   "source": [
    "s[0]='a'  #string is not mutable"
   ]
  },
  {
   "cell_type": "code",
   "execution_count": 44,
   "id": "ce26fa7c-8cfc-4ade-a7c9-e3e05cf5aa33",
   "metadata": {},
   "outputs": [
    {
     "data": {
      "text/plain": [
       "'audanau'"
      ]
     },
     "execution_count": 44,
     "metadata": {},
     "output_type": "execute_result"
    }
   ],
   "source": [
    "s.replace(\"s\",\"a\")  #it make new variable in different location in memory and make changes"
   ]
  },
  {
   "cell_type": "code",
   "execution_count": 45,
   "id": "2f366ed2-32f4-479c-abb4-4b4d76649cd6",
   "metadata": {},
   "outputs": [],
   "source": [
    "t=(1,24,3.5,\"abish\",[1,3,s])"
   ]
  },
  {
   "cell_type": "code",
   "execution_count": 46,
   "id": "183381bb-36a9-471e-9401-2f4875a52d35",
   "metadata": {},
   "outputs": [
    {
     "data": {
      "text/plain": [
       "(1, 24, 3.5, 'abish', [1, 3, 'sudansu'])"
      ]
     },
     "execution_count": 46,
     "metadata": {},
     "output_type": "execute_result"
    }
   ],
   "source": [
    "t"
   ]
  },
  {
   "cell_type": "code",
   "execution_count": 47,
   "id": "724e45ca-5f31-48e9-b0d2-cdf24c201f46",
   "metadata": {},
   "outputs": [
    {
     "data": {
      "text/plain": [
       "tuple"
      ]
     },
     "execution_count": 47,
     "metadata": {},
     "output_type": "execute_result"
    }
   ],
   "source": [
    "type(t)"
   ]
  },
  {
   "cell_type": "code",
   "execution_count": 48,
   "id": "da663a90-a18b-48ee-adcb-5234e224ddaa",
   "metadata": {},
   "outputs": [
    {
     "data": {
      "text/plain": [
       "5"
      ]
     },
     "execution_count": 48,
     "metadata": {},
     "output_type": "execute_result"
    }
   ],
   "source": [
    "len(t)"
   ]
  },
  {
   "cell_type": "code",
   "execution_count": 49,
   "id": "315ef601-656d-4a59-b461-2493515316a8",
   "metadata": {},
   "outputs": [
    {
     "data": {
      "text/plain": [
       "1"
      ]
     },
     "execution_count": 49,
     "metadata": {},
     "output_type": "execute_result"
    }
   ],
   "source": [
    "t[0]"
   ]
  },
  {
   "cell_type": "code",
   "execution_count": 50,
   "id": "25a8e749-4a7a-4ec2-9424-decebb3d0b01",
   "metadata": {},
   "outputs": [
    {
     "data": {
      "text/plain": [
       "([1, 3, 'sudansu'], 'abish', 3.5, 24, 1)"
      ]
     },
     "execution_count": 50,
     "metadata": {},
     "output_type": "execute_result"
    }
   ],
   "source": [
    "t[::-1]"
   ]
  },
  {
   "cell_type": "code",
   "execution_count": 51,
   "id": "ac2e694e-401e-46aa-a9e6-b2e67b139d3c",
   "metadata": {},
   "outputs": [
    {
     "data": {
      "text/plain": [
       "(1, 24, 3.5, 'abish', [1, 3, 'sudansu'])"
      ]
     },
     "execution_count": 51,
     "metadata": {},
     "output_type": "execute_result"
    }
   ],
   "source": [
    "t"
   ]
  },
  {
   "cell_type": "code",
   "execution_count": 52,
   "id": "1db32dbf-8183-4b34-b8b7-bcafa4f82340",
   "metadata": {},
   "outputs": [
    {
     "data": {
      "text/plain": [
       "['abishek', 'datascience', 'pop']"
      ]
     },
     "execution_count": 52,
     "metadata": {},
     "output_type": "execute_result"
    }
   ],
   "source": [
    "a4"
   ]
  },
  {
   "cell_type": "code",
   "execution_count": 53,
   "id": "42aa985f-a983-444a-94da-55591a040f90",
   "metadata": {},
   "outputs": [],
   "source": [
    "a4[0]=234   # major differce in list is mutable"
   ]
  },
  {
   "cell_type": "code",
   "execution_count": 54,
   "id": "d9541576-eabf-4f8d-937c-233237e0ed96",
   "metadata": {},
   "outputs": [
    {
     "data": {
      "text/plain": [
       "[234, 'datascience', 'pop']"
      ]
     },
     "execution_count": 54,
     "metadata": {},
     "output_type": "execute_result"
    }
   ],
   "source": [
    "a4"
   ]
  },
  {
   "cell_type": "code",
   "execution_count": 55,
   "id": "bae0471f-37bb-4a50-bd64-097cefb92c55",
   "metadata": {},
   "outputs": [
    {
     "data": {
      "text/plain": [
       "(1, 24, 3.5, 'abish', [1, 3, 'sudansu'])"
      ]
     },
     "execution_count": 55,
     "metadata": {},
     "output_type": "execute_result"
    }
   ],
   "source": [
    "t"
   ]
  },
  {
   "cell_type": "code",
   "execution_count": 56,
   "id": "3bbc176f-de71-47de-9d32-ea2769e0b12f",
   "metadata": {},
   "outputs": [
    {
     "ename": "TypeError",
     "evalue": "'tuple' object does not support item assignment",
     "output_type": "error",
     "traceback": [
      "\u001b[0;31m---------------------------------------------------------------------------\u001b[0m",
      "\u001b[0;31mTypeError\u001b[0m                                 Traceback (most recent call last)",
      "Cell \u001b[0;32mIn[56], line 1\u001b[0m\n\u001b[0;32m----> 1\u001b[0m \u001b[43mt\u001b[49m\u001b[43m[\u001b[49m\u001b[38;5;241;43m0\u001b[39;49m\u001b[43m]\u001b[49m\u001b[38;5;241m=\u001b[39m\u001b[38;5;241m5\u001b[39m\n",
      "\u001b[0;31mTypeError\u001b[0m: 'tuple' object does not support item assignment"
     ]
    }
   ],
   "source": [
    "t[0]=5   #tuple and string are imutable"
   ]
  },
  {
   "cell_type": "code",
   "execution_count": 57,
   "id": "59e285a2-7143-4336-b8b1-fca4674f2a99",
   "metadata": {},
   "outputs": [
    {
     "data": {
      "text/plain": [
       "([1, 3, 'sudansu'], 'abish', 3.5, 24, 1)"
      ]
     },
     "execution_count": 57,
     "metadata": {},
     "output_type": "execute_result"
    }
   ],
   "source": [
    "t[::-1]       "
   ]
  },
  {
   "cell_type": "code",
   "execution_count": 59,
   "id": "682c5522-f3ac-45d0-83e5-2a6cdafab18b",
   "metadata": {},
   "outputs": [
    {
     "data": {
      "text/plain": [
       "1"
      ]
     },
     "execution_count": 59,
     "metadata": {},
     "output_type": "execute_result"
    }
   ],
   "source": [
    "t.count(1)"
   ]
  },
  {
   "cell_type": "code",
   "execution_count": 65,
   "id": "588a63c7-5df1-44f2-baa4-60b96079de69",
   "metadata": {},
   "outputs": [
    {
     "data": {
      "text/plain": [
       "1"
      ]
     },
     "execution_count": 65,
     "metadata": {},
     "output_type": "execute_result"
    }
   ],
   "source": [
    "t.index(24)   "
   ]
  },
  {
   "cell_type": "code",
   "execution_count": 66,
   "id": "9b6179c0-e04f-4d7a-9ca0-4029b0d39aa1",
   "metadata": {},
   "outputs": [],
   "source": [
    "s1={}"
   ]
  },
  {
   "cell_type": "code",
   "execution_count": 67,
   "id": "18ec8e11-fce3-4c8f-9864-29ff5b7409d1",
   "metadata": {},
   "outputs": [
    {
     "data": {
      "text/plain": [
       "dict"
      ]
     },
     "execution_count": 67,
     "metadata": {},
     "output_type": "execute_result"
    }
   ],
   "source": [
    "type(s1)"
   ]
  },
  {
   "cell_type": "code",
   "execution_count": 68,
   "id": "8274a574-8f08-4b31-b29c-c908e8753f94",
   "metadata": {},
   "outputs": [],
   "source": [
    "s1={32,2313,43324,\"abishek\", 45+4j,(32, 352,53)} # imutable collection only store in dic not mutbale collection like list."
   ]
  },
  {
   "cell_type": "code",
   "execution_count": 69,
   "id": "d2232343-305d-4c3e-b4c0-9923fda921f8",
   "metadata": {},
   "outputs": [
    {
     "data": {
      "text/plain": [
       "{(32, 352, 53), (45+4j), 2313, 32, 43324, 'abishek'}"
      ]
     },
     "execution_count": 69,
     "metadata": {},
     "output_type": "execute_result"
    }
   ],
   "source": [
    "s1"
   ]
  },
  {
   "cell_type": "code",
   "execution_count": 71,
   "id": "22f323a5-a449-4529-912b-51e3a338fd76",
   "metadata": {},
   "outputs": [
    {
     "ename": "TypeError",
     "evalue": "unhashable type: 'list'",
     "output_type": "error",
     "traceback": [
      "\u001b[0;31m---------------------------------------------------------------------------\u001b[0m",
      "\u001b[0;31mTypeError\u001b[0m                                 Traceback (most recent call last)",
      "Cell \u001b[0;32mIn[71], line 1\u001b[0m\n\u001b[0;32m----> 1\u001b[0m s1\u001b[38;5;241m=\u001b[39m{\u001b[38;5;241m32\u001b[39m,\u001b[38;5;241m2313\u001b[39m,\u001b[38;5;241m43324\u001b[39m,\u001b[38;5;124m\"\u001b[39m\u001b[38;5;124mabishek\u001b[39m\u001b[38;5;124m\"\u001b[39m, \u001b[38;5;241m45\u001b[39m\u001b[38;5;241m+\u001b[39m\u001b[38;5;241m4\u001b[39mj,(\u001b[38;5;241m32\u001b[39m, \u001b[38;5;241m352\u001b[39m,\u001b[38;5;241m53\u001b[39m),[\u001b[38;5;241m3\u001b[39m,\u001b[38;5;241m42\u001b[39m,\u001b[38;5;124m\"\u001b[39m\u001b[38;5;124ma\u001b[39m\u001b[38;5;124m\"\u001b[39m]}\n",
      "\u001b[0;31mTypeError\u001b[0m: unhashable type: 'list'"
     ]
    }
   ],
   "source": [
    "s1={32,2313,43324,\"abishek\", 45+4j,(32, 352,53),[3,42,\"a\"]}  #ONLY ALLOW IMUTABLE COLLECTION"
   ]
  },
  {
   "cell_type": "code",
   "execution_count": 73,
   "id": "d9f97c39-a4f9-4a8f-99fe-ad2308217ac2",
   "metadata": {},
   "outputs": [],
   "source": [
    "s2={1,1,1,1,5,5,5,5,2,4,3,6, \"abishek\",\"Abishek\"} # it is case sensitivve   "
   ]
  },
  {
   "cell_type": "code",
   "execution_count": 74,
   "id": "a7cb9265-d53d-4736-81f4-84abdf50161d",
   "metadata": {},
   "outputs": [
    {
     "data": {
      "text/plain": [
       "{1, 2, 3, 4, 5, 6}"
      ]
     },
     "execution_count": 74,
     "metadata": {},
     "output_type": "execute_result"
    }
   ],
   "source": [
    "s2   # it remove dibulicate data"
   ]
  },
  {
   "cell_type": "code",
   "execution_count": 75,
   "id": "a31cf569-165b-4279-b056-44fd1a6fa582",
   "metadata": {},
   "outputs": [
    {
     "data": {
      "text/plain": [
       "{1, 2, 3, 4, 5, 6}"
      ]
     },
     "execution_count": 75,
     "metadata": {},
     "output_type": "execute_result"
    }
   ],
   "source": [
    "s2"
   ]
  },
  {
   "cell_type": "code",
   "execution_count": 76,
   "id": "dc239f8c-e911-4240-842b-bb00f97d7ffc",
   "metadata": {},
   "outputs": [],
   "source": [
    "s2=set(s2)"
   ]
  },
  {
   "cell_type": "code",
   "execution_count": 77,
   "id": "bbaadba4-1e18-4164-8d8f-211c46caf38d",
   "metadata": {},
   "outputs": [
    {
     "data": {
      "text/plain": [
       "{1, 2, 3, 4, 5, 6}"
      ]
     },
     "execution_count": 77,
     "metadata": {},
     "output_type": "execute_result"
    }
   ],
   "source": [
    "s2"
   ]
  },
  {
   "cell_type": "code",
   "execution_count": 78,
   "id": "321bd04e-f01c-486f-968b-aa04d246e4f3",
   "metadata": {},
   "outputs": [
    {
     "data": {
      "text/plain": [
       "{1, 2, 3, 4, 5, 6}"
      ]
     },
     "execution_count": 78,
     "metadata": {},
     "output_type": "execute_result"
    }
   ],
   "source": [
    "s2"
   ]
  },
  {
   "cell_type": "code",
   "execution_count": 84,
   "id": "fa3ded0c-faa0-4a2e-aa11-b76f1bbb3faa",
   "metadata": {},
   "outputs": [],
   "source": [
    "s5={1,3,54,3,2,2,2,\"abhik\"}"
   ]
  },
  {
   "cell_type": "code",
   "execution_count": 86,
   "id": "90243768-8944-408f-b301-343624f9bfc3",
   "metadata": {},
   "outputs": [
    {
     "ename": "TypeError",
     "evalue": "'set' object is not subscriptable",
     "output_type": "error",
     "traceback": [
      "\u001b[0;31m---------------------------------------------------------------------------\u001b[0m",
      "\u001b[0;31mTypeError\u001b[0m                                 Traceback (most recent call last)",
      "Cell \u001b[0;32mIn[86], line 1\u001b[0m\n\u001b[0;32m----> 1\u001b[0m \u001b[43ms5\u001b[49m\u001b[43m[\u001b[49m\u001b[38;5;241;43m0\u001b[39;49m\u001b[43m]\u001b[49m\n",
      "\u001b[0;31mTypeError\u001b[0m: 'set' object is not subscriptable"
     ]
    }
   ],
   "source": [
    "s5[0]    # not support  #it store in the fome of hasing to store data . not in index"
   ]
  },
  {
   "cell_type": "code",
   "execution_count": 87,
   "id": "dea3946e-0946-4f6a-8abe-cf1a02c92d62",
   "metadata": {
    "collapsed": true,
    "jupyter": {
     "outputs_hidden": true,
     "source_hidden": true
    },
    "tags": []
   },
   "outputs": [
    {
     "ename": "TypeError",
     "evalue": "'set' object is not subscriptable",
     "output_type": "error",
     "traceback": [
      "\u001b[0;31m---------------------------------------------------------------------------\u001b[0m",
      "\u001b[0;31mTypeError\u001b[0m                                 Traceback (most recent call last)",
      "Cell \u001b[0;32mIn[87], line 1\u001b[0m\n\u001b[0;32m----> 1\u001b[0m \u001b[43ms5\u001b[49m\u001b[43m[\u001b[49m\u001b[43m:\u001b[49m\u001b[43m:\u001b[49m\u001b[38;5;241;43m-\u001b[39;49m\u001b[38;5;241;43m1\u001b[39;49m\u001b[43m]\u001b[49m\n",
      "\u001b[0;31mTypeError\u001b[0m: 'set' object is not subscriptable"
     ]
    }
   ],
   "source": [
    "s5[::-1]  #not support.\n"
   ]
  },
  {
   "cell_type": "code",
   "execution_count": 88,
   "id": "fb0a59de-88dc-4f24-8e34-01387979f63b",
   "metadata": {},
   "outputs": [],
   "source": [
    " s5.add(4)"
   ]
  },
  {
   "cell_type": "code",
   "execution_count": 89,
   "id": "86169954-1ed1-4265-beee-b767e4e93248",
   "metadata": {},
   "outputs": [
    {
     "data": {
      "text/plain": [
       "{1, 2, 3, 4, 54, 'abhik'}"
      ]
     },
     "execution_count": 89,
     "metadata": {},
     "output_type": "execute_result"
    }
   ],
   "source": [
    "s5"
   ]
  },
  {
   "cell_type": "code",
   "execution_count": 94,
   "id": "d97d5321-79b3-43ca-bd4d-466ceeca063c",
   "metadata": {},
   "outputs": [
    {
     "ename": "KeyError",
     "evalue": "'abhik'",
     "output_type": "error",
     "traceback": [
      "\u001b[0;31m---------------------------------------------------------------------------\u001b[0m",
      "\u001b[0;31mKeyError\u001b[0m                                  Traceback (most recent call last)",
      "Cell \u001b[0;32mIn[94], line 1\u001b[0m\n\u001b[0;32m----> 1\u001b[0m \u001b[43ms5\u001b[49m\u001b[38;5;241;43m.\u001b[39;49m\u001b[43mremove\u001b[49m\u001b[43m(\u001b[49m\u001b[38;5;124;43m\"\u001b[39;49m\u001b[38;5;124;43mabhik\u001b[39;49m\u001b[38;5;124;43m\"\u001b[39;49m\u001b[43m)\u001b[49m\n",
      "\u001b[0;31mKeyError\u001b[0m: 'abhik'"
     ]
    }
   ],
   "source": [
    "s5.remove(\"abhik\")"
   ]
  },
  {
   "cell_type": "code",
   "execution_count": 91,
   "id": "1eb4e651-cd01-4980-aeb3-1bcec813eae9",
   "metadata": {},
   "outputs": [
    {
     "data": {
      "text/plain": [
       "[40, 35, 3, 12, 23]"
      ]
     },
     "execution_count": 91,
     "metadata": {},
     "output_type": "execute_result"
    }
   ],
   "source": [
    "a5"
   ]
  },
  {
   "cell_type": "code",
   "execution_count": 102,
   "id": "c0124650-b2bf-4e07-a155-27ef9a9c6bdb",
   "metadata": {},
   "outputs": [],
   "source": [
    "s=\"abhik\""
   ]
  },
  {
   "cell_type": "code",
   "execution_count": 111,
   "id": "ece8b273-deb2-48aa-8dbd-7740666c3e23",
   "metadata": {},
   "outputs": [],
   "source": [
    "a5.insert(3,list(s))"
   ]
  },
  {
   "cell_type": "code",
   "execution_count": 104,
   "id": "239b4a03-0e37-409d-abbf-a938dfc9c44e",
   "metadata": {},
   "outputs": [
    {
     "data": {
      "text/plain": [
       "[40, 35, 3, ['a', 'b', 'h', 'i', 'k'], 12, 23]"
      ]
     },
     "execution_count": 104,
     "metadata": {},
     "output_type": "execute_result"
    }
   ],
   "source": [
    "a5"
   ]
  },
  {
   "cell_type": "code",
   "execution_count": 113,
   "id": "1c43c11d-f353-4399-ab35-a8beaeba0b00",
   "metadata": {},
   "outputs": [],
   "source": [
    "a5.extend(a5)"
   ]
  },
  {
   "cell_type": "code",
   "execution_count": 110,
   "id": "866fb289-81ab-4501-bd2a-cc7efaa1a08f",
   "metadata": {},
   "outputs": [
    {
     "data": {
      "text/plain": [
       "[40,\n",
       " 35,\n",
       " 3,\n",
       " ['a', 'b', 'h', 'i', 'k'],\n",
       " 12,\n",
       " 23,\n",
       " 40,\n",
       " 35,\n",
       " 3,\n",
       " ['a', 'b', 'h', 'i', 'k'],\n",
       " 12,\n",
       " 23]"
      ]
     },
     "execution_count": 110,
     "metadata": {},
     "output_type": "execute_result"
    }
   ],
   "source": [
    "a5"
   ]
  },
  {
   "cell_type": "code",
   "execution_count": 114,
   "id": "01e75c65-894e-4a45-8855-ca18f28acb1d",
   "metadata": {},
   "outputs": [],
   "source": [
    "m=\"pwskils\""
   ]
  },
  {
   "cell_type": "code",
   "execution_count": 115,
   "id": "c1ed3c1b-e772-49e2-9cf4-c2b8e975e2be",
   "metadata": {},
   "outputs": [
    {
     "data": {
      "text/plain": [
       "'p'"
      ]
     },
     "execution_count": 115,
     "metadata": {},
     "output_type": "execute_result"
    }
   ],
   "source": [
    "m[::9999]"
   ]
  },
  {
   "cell_type": "code",
   "execution_count": 116,
   "id": "52094bf8-bb5d-4eca-838c-c1343487a938",
   "metadata": {},
   "outputs": [
    {
     "data": {
      "text/plain": [
       "'ws'"
      ]
     },
     "execution_count": 116,
     "metadata": {},
     "output_type": "execute_result"
    }
   ],
   "source": [
    "m[1:3]"
   ]
  },
  {
   "cell_type": "code",
   "execution_count": 118,
   "id": "873b01f8-4a07-4c15-8824-21fecda86ae2",
   "metadata": {},
   "outputs": [],
   "source": [
    "l=[1,3,12,21,31,32]"
   ]
  },
  {
   "cell_type": "code",
   "execution_count": 119,
   "id": "0a7aca86-e829-4c4f-8640-0ea67674aeca",
   "metadata": {},
   "outputs": [],
   "source": [
    "l.extend(\"abhik\")"
   ]
  },
  {
   "cell_type": "code",
   "execution_count": 120,
   "id": "197ab213-aba2-4a7a-a49e-82a36706449d",
   "metadata": {},
   "outputs": [
    {
     "data": {
      "text/plain": [
       "[1, 3, 12, 21, 31, 32, 'a', 'b', 'h', 'i', 'k']"
      ]
     },
     "execution_count": 120,
     "metadata": {},
     "output_type": "execute_result"
    }
   ],
   "source": [
    "l"
   ]
  },
  {
   "cell_type": "code",
   "execution_count": 122,
   "id": "f941bdbc-1e6c-4a37-9606-91d6eaad5c96",
   "metadata": {},
   "outputs": [],
   "source": [
    "l.insert(0,2)"
   ]
  },
  {
   "cell_type": "code",
   "execution_count": 124,
   "id": "61c42885-b77d-44b3-ba63-755d95dbdf78",
   "metadata": {},
   "outputs": [
    {
     "data": {
      "text/plain": [
       "[2, 1, 3, 12, 21, 31, 32, 'a', 'b', 'h', 'i', 'k']"
      ]
     },
     "execution_count": 124,
     "metadata": {},
     "output_type": "execute_result"
    }
   ],
   "source": [
    "l"
   ]
  },
  {
   "cell_type": "code",
   "execution_count": 125,
   "id": "631750d3-f946-4dd3-9f99-949522489beb",
   "metadata": {},
   "outputs": [],
   "source": [
    "l.append(2+4j)"
   ]
  },
  {
   "cell_type": "code",
   "execution_count": 126,
   "id": "9c8b1fcd-c73e-4868-b431-17a44b0216de",
   "metadata": {},
   "outputs": [
    {
     "data": {
      "text/plain": [
       "[2, 1, 3, 12, 21, 31, 32, 'a', 'b', 'h', 'i', 'k', (2+4j)]"
      ]
     },
     "execution_count": 126,
     "metadata": {},
     "output_type": "execute_result"
    }
   ],
   "source": [
    "l"
   ]
  },
  {
   "cell_type": "code",
   "execution_count": 127,
   "id": "0df2ed81-106e-43b4-bdf1-fd570b2ccccd",
   "metadata": {},
   "outputs": [
    {
     "data": {
      "text/plain": [
       "(2+4j)"
      ]
     },
     "execution_count": 127,
     "metadata": {},
     "output_type": "execute_result"
    }
   ],
   "source": [
    "l[12]"
   ]
  },
  {
   "cell_type": "code",
   "execution_count": 128,
   "id": "77798bc3-fee8-42f5-85bd-b39ee90e9a6a",
   "metadata": {},
   "outputs": [
    {
     "data": {
      "text/plain": [
       "2.0"
      ]
     },
     "execution_count": 128,
     "metadata": {},
     "output_type": "execute_result"
    }
   ],
   "source": [
    "l[12].real"
   ]
  },
  {
   "cell_type": "code",
   "execution_count": 129,
   "id": "76b9a736-ca2a-4aef-a777-2d564c91773f",
   "metadata": {},
   "outputs": [
    {
     "data": {
      "text/plain": [
       "4.0"
      ]
     },
     "execution_count": 129,
     "metadata": {},
     "output_type": "execute_result"
    }
   ],
   "source": [
    "l[12].imag"
   ]
  },
  {
   "cell_type": "code",
   "execution_count": null,
   "id": "d3e8e800-f437-4789-8cc9-ef54a519ae1d",
   "metadata": {},
   "outputs": [],
   "source": [
    "l"
   ]
  },
  {
   "cell_type": "code",
   "execution_count": null,
   "id": "47c05eb0-5d4f-4695-851f-478117b7fc61",
   "metadata": {},
   "outputs": [],
   "source": []
  },
  {
   "cell_type": "code",
   "execution_count": null,
   "id": "febb6810-208f-4aac-b2d7-df7442caae7c",
   "metadata": {},
   "outputs": [],
   "source": []
  }
 ],
 "metadata": {
  "kernelspec": {
   "display_name": "Python 3 (ipykernel)",
   "language": "python",
   "name": "python3"
  },
  "language_info": {
   "codemirror_mode": {
    "name": "ipython",
    "version": 3
   },
   "file_extension": ".py",
   "mimetype": "text/x-python",
   "name": "python",
   "nbconvert_exporter": "python",
   "pygments_lexer": "ipython3",
   "version": "3.10.8"
  }
 },
 "nbformat": 4,
 "nbformat_minor": 5
}
