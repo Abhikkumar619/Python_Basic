{
 "cells": [
  {
   "cell_type": "code",
   "execution_count": 1,
   "id": "e95e9748-983c-402b-bb60-cf71e6a2ceba",
   "metadata": {},
   "outputs": [],
   "source": [
    "l=[1,2,3,4,5]"
   ]
  },
  {
   "cell_type": "code",
   "execution_count": 3,
   "id": "765397f9-5212-4886-910e-016213e339a6",
   "metadata": {},
   "outputs": [
    {
     "name": "stdout",
     "output_type": "stream",
     "text": [
      "1 <class 'int'>\n",
      "2 <class 'int'>\n",
      "3 <class 'int'>\n",
      "4 <class 'int'>\n",
      "5 <class 'int'>\n"
     ]
    }
   ],
   "source": [
    "for i in l:\n",
    "    print(i,type(i))"
   ]
  },
  {
   "cell_type": "code",
   "execution_count": 4,
   "id": "26b6898a-8d98-427c-97ef-b21538e9b749",
   "metadata": {},
   "outputs": [],
   "source": [
    "l1=['ahik', 'kumar', 'yadav']\n"
   ]
  },
  {
   "cell_type": "code",
   "execution_count": 7,
   "id": "c9d00f55-f0fd-40ec-a16d-3bf368a11d5b",
   "metadata": {},
   "outputs": [
    {
     "name": "stdout",
     "output_type": "stream",
     "text": [
      "ahik\n",
      "kumar\n",
      "yadav\n"
     ]
    }
   ],
   "source": [
    "for i in l1 :\n",
    "    print(i)"
   ]
  },
  {
   "cell_type": "code",
   "execution_count": 8,
   "id": "1bf76ea6-faff-42b8-b80a-07f048bcbf62",
   "metadata": {},
   "outputs": [
    {
     "data": {
      "text/plain": [
       "['ahik', 'kumar', 'yadav']"
      ]
     },
     "execution_count": 8,
     "metadata": {},
     "output_type": "execute_result"
    }
   ],
   "source": [
    "l1"
   ]
  },
  {
   "cell_type": "code",
   "execution_count": 9,
   "id": "e5a7c2f8-812a-46d4-b729-8fb2079bf86f",
   "metadata": {},
   "outputs": [
    {
     "name": "stdout",
     "output_type": "stream",
     "text": [
      "ahik\n",
      "kumar\n",
      "yadav\n",
      "if foe lii is able to comlete itself then only else will execute.\n"
     ]
    }
   ],
   "source": [
    "for i in l1:\n",
    "    print(i)\n",
    "else:\n",
    "    print(\"if foe lii is able to comlete itself then only else will execute.\")"
   ]
  },
  {
   "cell_type": "code",
   "execution_count": 11,
   "id": "e6ec18c2-8479-4915-9ff5-3064e0f5f93a",
   "metadata": {},
   "outputs": [
    {
     "name": "stdout",
     "output_type": "stream",
     "text": [
      "ahik\n"
     ]
    }
   ],
   "source": [
    "for i in l1:\n",
    "    if i==\"kumar\":\n",
    "        break\n",
    "    print(i)"
   ]
  },
  {
   "cell_type": "code",
   "execution_count": 16,
   "id": "ad3bce8c-961c-4526-af20-5ffc958626ec",
   "metadata": {},
   "outputs": [
    {
     "name": "stdout",
     "output_type": "stream",
     "text": [
      "ahik\n"
     ]
    }
   ],
   "source": [
    "\n",
    "for i in l1:\n",
    "    if i=='kumar':\n",
    "        break\n",
    "    print(i)\n",
    "else:\n",
    "    print(\"execute this for loop is able to comlete itself\")"
   ]
  },
  {
   "cell_type": "code",
   "execution_count": 19,
   "id": "5e1883db-5f79-4ec0-ad91-289da174a10c",
   "metadata": {},
   "outputs": [
    {
     "name": "stdout",
     "output_type": "stream",
     "text": [
      "ahik\n",
      "yadav\n"
     ]
    }
   ],
   "source": [
    "for i in l1:\n",
    "    if i=='kumar':\n",
    "        continue\n",
    "    print(i)"
   ]
  },
  {
   "cell_type": "code",
   "execution_count": 20,
   "id": "0b665456-9f65-42b6-848a-6898064615aa",
   "metadata": {},
   "outputs": [
    {
     "name": "stdout",
     "output_type": "stream",
     "text": [
      "ahik\n",
      "yadav\n",
      "hello\n"
     ]
    }
   ],
   "source": [
    "for i in l1:\n",
    "    if i=='kumar':\n",
    "        continue\n",
    "    print(i)\n",
    "else:\n",
    "    print(\"hello\")"
   ]
  },
  {
   "cell_type": "code",
   "execution_count": 22,
   "id": "9063f4a8-23ce-455e-bd72-61f60dd1019e",
   "metadata": {},
   "outputs": [
    {
     "data": {
      "text/plain": [
       "[0, 1, 2, 3, 4]"
      ]
     },
     "execution_count": 22,
     "metadata": {},
     "output_type": "execute_result"
    }
   ],
   "source": [
    "list(range(5))"
   ]
  },
  {
   "cell_type": "code",
   "execution_count": 23,
   "id": "e5bcce4b-092d-454e-ac4e-5c592626cf09",
   "metadata": {},
   "outputs": [
    {
     "data": {
      "text/plain": [
       "[0, 1, 2, 3, 4]"
      ]
     },
     "execution_count": 23,
     "metadata": {},
     "output_type": "execute_result"
    }
   ],
   "source": [
    "list(range(0,5,1))"
   ]
  },
  {
   "cell_type": "code",
   "execution_count": 25,
   "id": "2dd2f24b-1800-4efa-ac69-b75021621567",
   "metadata": {},
   "outputs": [],
   "source": [
    "a=list(range(0,20,2))"
   ]
  },
  {
   "cell_type": "code",
   "execution_count": 26,
   "id": "613a976b-1e4e-44d3-baad-8517c6c4ea7b",
   "metadata": {},
   "outputs": [
    {
     "data": {
      "text/plain": [
       "[0, 2, 4, 6, 8, 10, 12, 14, 16, 18]"
      ]
     },
     "execution_count": 26,
     "metadata": {},
     "output_type": "execute_result"
    }
   ],
   "source": [
    "a"
   ]
  },
  {
   "cell_type": "code",
   "execution_count": 27,
   "id": "89366dd7-447a-4575-9f5d-a6b1abebd03f",
   "metadata": {},
   "outputs": [
    {
     "data": {
      "text/plain": [
       "[-20,\n",
       " -19,\n",
       " -18,\n",
       " -17,\n",
       " -16,\n",
       " -15,\n",
       " -14,\n",
       " -13,\n",
       " -12,\n",
       " -11,\n",
       " -10,\n",
       " -9,\n",
       " -8,\n",
       " -7,\n",
       " -6,\n",
       " -5,\n",
       " -4,\n",
       " -3,\n",
       " -2,\n",
       " -1]"
      ]
     },
     "execution_count": 27,
     "metadata": {},
     "output_type": "execute_result"
    }
   ],
   "source": [
    "list(range(-20,0))"
   ]
  },
  {
   "cell_type": "code",
   "execution_count": 28,
   "id": "6693a00c-cd58-4aba-b653-e99c5517b678",
   "metadata": {},
   "outputs": [
    {
     "data": {
      "text/plain": [
       "['ahik', 'kumar', 'yadav']"
      ]
     },
     "execution_count": 28,
     "metadata": {},
     "output_type": "execute_result"
    }
   ],
   "source": [
    "l1"
   ]
  },
  {
   "cell_type": "code",
   "execution_count": 34,
   "id": "507a6936-82b7-41db-bbdd-60231f7a91fc",
   "metadata": {},
   "outputs": [
    {
     "data": {
      "text/plain": [
       "[0, 1, 2]"
      ]
     },
     "execution_count": 34,
     "metadata": {},
     "output_type": "execute_result"
    }
   ],
   "source": [
    "list(range(len(l1)))\n",
    "    "
   ]
  },
  {
   "cell_type": "code",
   "execution_count": 36,
   "id": "5fd09b0c-75f2-4b7a-9fe0-d7231a9059bb",
   "metadata": {},
   "outputs": [
    {
     "name": "stdout",
     "output_type": "stream",
     "text": [
      "ahik\n",
      "kumar\n",
      "yadav\n"
     ]
    }
   ],
   "source": [
    "for i in range(len(l1)):\n",
    "    print(l1[i])"
   ]
  },
  {
   "cell_type": "code",
   "execution_count": 41,
   "id": "39f7c6ee-6a3b-45b8-8426-46915bf16ac5",
   "metadata": {},
   "outputs": [
    {
     "data": {
      "text/plain": [
       "[2, 1]"
      ]
     },
     "execution_count": 41,
     "metadata": {},
     "output_type": "execute_result"
    }
   ],
   "source": [
    "list(range(len(l1)-1,0,-1))"
   ]
  },
  {
   "cell_type": "code",
   "execution_count": 47,
   "id": "73b3e458-4ed9-4806-a0b0-f96687e0545f",
   "metadata": {},
   "outputs": [
    {
     "name": "stdout",
     "output_type": "stream",
     "text": [
      "yadav\n",
      "kumar\n"
     ]
    }
   ],
   "source": [
    "for i in range(len(l1)-1,0,-1):\n",
    "    print(l1[i])"
   ]
  },
  {
   "cell_type": "code",
   "execution_count": 48,
   "id": "be10c48a-9edc-4691-90ef-de5535cf95d0",
   "metadata": {},
   "outputs": [
    {
     "name": "stdout",
     "output_type": "stream",
     "text": [
      "1\n",
      "2\n",
      "3\n",
      "4\n"
     ]
    }
   ],
   "source": [
    "for i in [1,2,3,4]:\n",
    "    print(i)"
   ]
  },
  {
   "cell_type": "code",
   "execution_count": 49,
   "id": "5bbdfd33-88a8-4588-9cde-c83b2407ca7a",
   "metadata": {},
   "outputs": [],
   "source": [
    "l2=[21,42,123,42,232,2334,23,242,2,5]"
   ]
  },
  {
   "cell_type": "code",
   "execution_count": 50,
   "id": "e3c99a2c-8c35-4ce8-82c2-aa8d3aa53629",
   "metadata": {},
   "outputs": [
    {
     "data": {
      "text/plain": [
       "[21, 42, 123, 42, 232, 2334, 23, 242, 2, 5]"
      ]
     },
     "execution_count": 50,
     "metadata": {},
     "output_type": "execute_result"
    }
   ],
   "source": [
    "l2"
   ]
  },
  {
   "cell_type": "code",
   "execution_count": 54,
   "id": "2bbcad9f-1d07-4ec1-8023-0c8a3f9fa232",
   "metadata": {},
   "outputs": [
    {
     "data": {
      "text/plain": [
       "[0, 2, 4, 6, 8]"
      ]
     },
     "execution_count": 54,
     "metadata": {},
     "output_type": "execute_result"
    }
   ],
   "source": [
    "list(range(0,len(l2),2))"
   ]
  },
  {
   "cell_type": "code",
   "execution_count": 55,
   "id": "4de6b56b-4e6e-4bd2-8454-8c15058303a9",
   "metadata": {},
   "outputs": [
    {
     "name": "stdout",
     "output_type": "stream",
     "text": [
      "21\n",
      "123\n",
      "232\n",
      "23\n",
      "2\n"
     ]
    }
   ],
   "source": [
    "for i in range(0,len(l2),2):\n",
    "    print(l2[i])"
   ]
  },
  {
   "cell_type": "code",
   "execution_count": 63,
   "id": "0182bd7c-11ca-4378-8b62-083899b58aa7",
   "metadata": {},
   "outputs": [
    {
     "name": "stdout",
     "output_type": "stream",
     "text": [
      "401\n"
     ]
    }
   ],
   "source": [
    "sum=0\n",
    "for i in range(0,len(l2),2):\n",
    "    sum=sum+l2[i]\n",
    "print(sum)\n"
   ]
  },
  {
   "cell_type": "code",
   "execution_count": 61,
   "id": "cff85af4-aca0-44db-8f82-783a2bd1715e",
   "metadata": {},
   "outputs": [
    {
     "name": "stdout",
     "output_type": "stream",
     "text": [
      "1\n",
      "2\n",
      "4\n",
      "535\n",
      "63\n"
     ]
    }
   ],
   "source": [
    "t=(1,2,4,535,63)\n",
    "for i in t:\n",
    "    print(i)"
   ]
  },
  {
   "cell_type": "code",
   "execution_count": 64,
   "id": "a6c4e402-91eb-4cbc-933e-0e13a8cb9636",
   "metadata": {},
   "outputs": [],
   "source": [
    "d={\"key\":\"abishek\", \"lock\":\"data_science\", \"topic\":[\"python\",\"ML\", \"DL\", \"CV\",\"NLP\"]}"
   ]
  },
  {
   "cell_type": "code",
   "execution_count": 65,
   "id": "885e7868-2e24-4707-a762-cc872e6bd069",
   "metadata": {},
   "outputs": [
    {
     "data": {
      "text/plain": [
       "{'key': 'abishek',\n",
       " 'lock': 'data_science',\n",
       " 'topic': ['python', 'ML', 'DL', 'CV', 'NLP']}"
      ]
     },
     "execution_count": 65,
     "metadata": {},
     "output_type": "execute_result"
    }
   ],
   "source": [
    "d"
   ]
  },
  {
   "cell_type": "code",
   "execution_count": 66,
   "id": "03d0eea2-6fca-447f-8f97-7434160e17ba",
   "metadata": {},
   "outputs": [
    {
     "data": {
      "text/plain": [
       "'abishek'"
      ]
     },
     "execution_count": 66,
     "metadata": {},
     "output_type": "execute_result"
    }
   ],
   "source": [
    "d['key']"
   ]
  },
  {
   "cell_type": "code",
   "execution_count": 67,
   "id": "9cf2c478-6a9e-4cef-96ca-58cfd2db90bc",
   "metadata": {},
   "outputs": [
    {
     "data": {
      "text/plain": [
       "dict_keys(['key', 'lock', 'topic'])"
      ]
     },
     "execution_count": 67,
     "metadata": {},
     "output_type": "execute_result"
    }
   ],
   "source": [
    "d.keys()"
   ]
  },
  {
   "cell_type": "code",
   "execution_count": 72,
   "id": "962fc87e-e0cd-47b8-a870-e9a397b96324",
   "metadata": {},
   "outputs": [
    {
     "name": "stdout",
     "output_type": "stream",
     "text": [
      "abishek\n",
      "data_science\n",
      "['python', 'ML', 'DL', 'CV', 'NLP']\n"
     ]
    }
   ],
   "source": [
    "for i in d.keys():\n",
    "    print(d[i])"
   ]
  },
  {
   "cell_type": "code",
   "execution_count": 75,
   "id": "f30a89a1-f9e6-4996-bab1-1e18d1ab7810",
   "metadata": {},
   "outputs": [
    {
     "name": "stdout",
     "output_type": "stream",
     "text": [
      "abishek\n",
      "data_science\n",
      "['python', 'ML', 'DL', 'CV', 'NLP']\n"
     ]
    }
   ],
   "source": [
    "for i in d.values():\n",
    "    print(i)"
   ]
  },
  {
   "cell_type": "code",
   "execution_count": 76,
   "id": "c9acec13-16ed-4cad-a23d-ce30b844c105",
   "metadata": {},
   "outputs": [
    {
     "data": {
      "text/plain": [
       "dict_items([('key', 'abishek'), ('lock', 'data_science'), ('topic', ['python', 'ML', 'DL', 'CV', 'NLP'])])"
      ]
     },
     "execution_count": 76,
     "metadata": {},
     "output_type": "execute_result"
    }
   ],
   "source": [
    "d.items()"
   ]
  },
  {
   "cell_type": "code",
   "execution_count": 77,
   "id": "afd623f8-fc69-474c-9884-ff3c1948c99b",
   "metadata": {},
   "outputs": [
    {
     "name": "stdout",
     "output_type": "stream",
     "text": [
      "('key', 'abishek')\n",
      "('lock', 'data_science')\n",
      "('topic', ['python', 'ML', 'DL', 'CV', 'NLP'])\n"
     ]
    }
   ],
   "source": [
    "for i in d.items():\n",
    "    print(i)"
   ]
  },
  {
   "cell_type": "code",
   "execution_count": null,
   "id": "6715f6d7-3447-4f03-80a1-e7c3b28ce807",
   "metadata": {},
   "outputs": [],
   "source": []
  }
 ],
 "metadata": {
  "kernelspec": {
   "display_name": "Python 3 (ipykernel)",
   "language": "python",
   "name": "python3"
  },
  "language_info": {
   "codemirror_mode": {
    "name": "ipython",
    "version": 3
   },
   "file_extension": ".py",
   "mimetype": "text/x-python",
   "name": "python",
   "nbconvert_exporter": "python",
   "pygments_lexer": "ipython3",
   "version": "3.10.8"
  }
 },
 "nbformat": 4,
 "nbformat_minor": 5
}
