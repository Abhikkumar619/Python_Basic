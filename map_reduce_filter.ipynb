{
 "cells": [
  {
   "cell_type": "code",
   "execution_count": 1,
   "id": "4ce1e336-9c92-4e32-b4ad-144f20b08f83",
   "metadata": {},
   "outputs": [],
   "source": [
    "l=[1,2,4,5,6]\n"
   ]
  },
  {
   "cell_type": "code",
   "execution_count": 2,
   "id": "c596a487-d039-4664-804c-f644da7b1b17",
   "metadata": {},
   "outputs": [
    {
     "data": {
      "text/plain": [
       "[1, 2, 4, 5, 6]"
      ]
     },
     "execution_count": 2,
     "metadata": {},
     "output_type": "execute_result"
    }
   ],
   "source": [
    "l"
   ]
  },
  {
   "cell_type": "code",
   "execution_count": 9,
   "id": "16101969-274d-4e3f-93e9-5f7fce31c156",
   "metadata": {},
   "outputs": [],
   "source": [
    "for i in l:\n",
    "    l1.append(i**2)"
   ]
  },
  {
   "cell_type": "code",
   "execution_count": 10,
   "id": "1f4270b6-f32e-4f00-8453-67f2bb53f2f7",
   "metadata": {},
   "outputs": [
    {
     "data": {
      "text/plain": [
       "[1, 4, 16, 25, 36, 1, 4, 16, 25, 36]"
      ]
     },
     "execution_count": 10,
     "metadata": {},
     "output_type": "execute_result"
    }
   ],
   "source": [
    "l1"
   ]
  },
  {
   "cell_type": "code",
   "execution_count": 13,
   "id": "52e3b6a7-52f9-4356-838a-f51cb68fdb9f",
   "metadata": {},
   "outputs": [],
   "source": [
    "def sq(n):\n",
    "    return n**2"
   ]
  },
  {
   "cell_type": "code",
   "execution_count": 14,
   "id": "63d333c8-0abc-4de0-8c41-f2c39b3646f5",
   "metadata": {},
   "outputs": [
    {
     "data": {
      "text/plain": [
       "[1, 4, 16, 25, 36]"
      ]
     },
     "execution_count": 14,
     "metadata": {},
     "output_type": "execute_result"
    }
   ],
   "source": [
    "list(map(sq,l))"
   ]
  },
  {
   "cell_type": "code",
   "execution_count": 15,
   "id": "15d84b01-df7b-418a-9741-6d91413275a2",
   "metadata": {},
   "outputs": [
    {
     "data": {
      "text/plain": [
       "map"
      ]
     },
     "execution_count": 15,
     "metadata": {},
     "output_type": "execute_result"
    }
   ],
   "source": [
    "type(map(sq,l))"
   ]
  },
  {
   "cell_type": "code",
   "execution_count": 16,
   "id": "f391d788-075f-4da3-b302-8f378a1fa5b3",
   "metadata": {},
   "outputs": [
    {
     "data": {
      "text/plain": [
       "[1, 4, 16, 25, 36]"
      ]
     },
     "execution_count": 16,
     "metadata": {},
     "output_type": "execute_result"
    }
   ],
   "source": [
    "list(map(lambda x : x**2,l))"
   ]
  },
  {
   "cell_type": "code",
   "execution_count": 17,
   "id": "3a875b81-7098-4ee4-97b2-1323124c9540",
   "metadata": {},
   "outputs": [
    {
     "data": {
      "text/plain": [
       "[8, 10, 12, 94, 14, 14]"
      ]
     },
     "execution_count": 17,
     "metadata": {},
     "output_type": "execute_result"
    }
   ],
   "source": [
    "l1=[1,2,3,4,5,6]\n",
    "l2=[7,8,9,90,9,8]\n",
    "list(map(lambda x,y :x+y,l1,l2))"
   ]
  },
  {
   "cell_type": "code",
   "execution_count": 18,
   "id": "9b1492d0-833b-4e43-813b-c537f7a31078",
   "metadata": {},
   "outputs": [],
   "source": [
    "def add(x,y):\n",
    "    return x+y"
   ]
  },
  {
   "cell_type": "code",
   "execution_count": 19,
   "id": "f1b00b29-ba9a-4161-a3e0-7da35096076b",
   "metadata": {},
   "outputs": [
    {
     "data": {
      "text/plain": [
       "[8, 10, 12, 94, 14, 14]"
      ]
     },
     "execution_count": 19,
     "metadata": {},
     "output_type": "execute_result"
    }
   ],
   "source": [
    "list(map(add,l1,l2))"
   ]
  },
  {
   "cell_type": "code",
   "execution_count": 21,
   "id": "ca6f1ec5-514a-4549-80ac-8c837d3c0c57",
   "metadata": {},
   "outputs": [
    {
     "data": {
      "text/plain": [
       "['A', 'B', 'H', 'I', 'K']"
      ]
     },
     "execution_count": 21,
     "metadata": {},
     "output_type": "execute_result"
    }
   ],
   "source": [
    "s=\"abhik\"\n",
    "list(map(lambda s: s.upper(), s))"
   ]
  },
  {
   "cell_type": "code",
   "execution_count": 26,
   "id": "7a40fe50-6853-4c3b-aa4c-b9cab7b0832a",
   "metadata": {},
   "outputs": [],
   "source": [
    "from functools import reduce\n"
   ]
  },
  {
   "cell_type": "code",
   "execution_count": 27,
   "id": "06153ede-f70c-403c-9ea2-511456db600f",
   "metadata": {},
   "outputs": [
    {
     "data": {
      "text/plain": [
       "18"
      ]
     },
     "execution_count": 27,
     "metadata": {},
     "output_type": "execute_result"
    }
   ],
   "source": [
    "reduce(lambda x,y: x+y,l)"
   ]
  },
  {
   "cell_type": "code",
   "execution_count": 29,
   "id": "c692352b-bffd-464f-adbc-6d807ee2ea7c",
   "metadata": {},
   "outputs": [
    {
     "data": {
      "text/plain": [
       "240"
      ]
     },
     "execution_count": 29,
     "metadata": {},
     "output_type": "execute_result"
    }
   ],
   "source": [
    "reduce(lambda x,y : x*y, l)"
   ]
  },
  {
   "cell_type": "code",
   "execution_count": 33,
   "id": "c173c331-8111-48be-867d-27e26b7d6e1a",
   "metadata": {},
   "outputs": [
    {
     "data": {
      "text/plain": [
       "6"
      ]
     },
     "execution_count": 33,
     "metadata": {},
     "output_type": "execute_result"
    }
   ],
   "source": [
    "reduce(lambda x,y: x if x>y else y,  l)"
   ]
  },
  {
   "cell_type": "code",
   "execution_count": 7,
   "id": "977332a4-0737-48af-963f-3c7130d1944d",
   "metadata": {},
   "outputs": [],
   "source": [
    "l=[-1,-2 ,2,1 ,2,3,4,5]"
   ]
  },
  {
   "cell_type": "code",
   "execution_count": 4,
   "id": "6bac728f-31c6-498f-b311-a161f53fb5db",
   "metadata": {},
   "outputs": [
    {
     "data": {
      "text/plain": [
       "[2, 4]"
      ]
     },
     "execution_count": 4,
     "metadata": {},
     "output_type": "execute_result"
    }
   ],
   "source": [
    "list(filter(lambda x: x%2==0 , l))"
   ]
  },
  {
   "cell_type": "code",
   "execution_count": 5,
   "id": "3c031293-eced-46e0-a860-69bfca5cb009",
   "metadata": {},
   "outputs": [
    {
     "data": {
      "text/plain": [
       "[1, 3, 5]"
      ]
     },
     "execution_count": 5,
     "metadata": {},
     "output_type": "execute_result"
    }
   ],
   "source": [
    "list(filter(lambda x: x%2 !=0, l))"
   ]
  },
  {
   "cell_type": "code",
   "execution_count": 8,
   "id": "ffb96416-d683-4e7d-ae38-01b6d135a839",
   "metadata": {},
   "outputs": [
    {
     "data": {
      "text/plain": [
       "[-1, -2]"
      ]
     },
     "execution_count": 8,
     "metadata": {},
     "output_type": "execute_result"
    }
   ],
   "source": [
    "list(filter(lambda x: x<0, l))"
   ]
  },
  {
   "cell_type": "code",
   "execution_count": 9,
   "id": "cc95b119-dd4f-4284-9092-e780a7169545",
   "metadata": {},
   "outputs": [
    {
     "data": {
      "text/plain": [
       "<filter at 0x7f32382651e0>"
      ]
     },
     "execution_count": 9,
     "metadata": {},
     "output_type": "execute_result"
    }
   ],
   "source": [
    "filter(lambda x: x<0,l)"
   ]
  },
  {
   "cell_type": "code",
   "execution_count": 11,
   "id": "ac800fa4-6f95-44cc-83ab-6f657a945ef3",
   "metadata": {},
   "outputs": [],
   "source": [
    "l4=[\"abishek\", \"subash\", \"rishav\",\"Nira\"]"
   ]
  },
  {
   "cell_type": "code",
   "execution_count": 15,
   "id": "79117326-0c42-4f3e-b233-8e854e2f7725",
   "metadata": {},
   "outputs": [],
   "source": [
    "l4=[\"abishek\", \"subash\", \"rishav\",\"Nira\"]"
   ]
  },
  {
   "cell_type": "code",
   "execution_count": 16,
   "id": "6d6de96e-cc98-4894-b778-c004f2276b46",
   "metadata": {},
   "outputs": [
    {
     "data": {
      "text/plain": [
       "['Nira']"
      ]
     },
     "execution_count": 16,
     "metadata": {},
     "output_type": "execute_result"
    }
   ],
   "source": [
    "list(filter(lambda x : len(x)<6, l4))"
   ]
  },
  {
   "cell_type": "code",
   "execution_count": null,
   "id": "34dc4a4f-7093-4352-9265-9ff2ea1859f5",
   "metadata": {},
   "outputs": [],
   "source": []
  }
 ],
 "metadata": {
  "kernelspec": {
   "display_name": "Python 3 (ipykernel)",
   "language": "python",
   "name": "python3"
  },
  "language_info": {
   "codemirror_mode": {
    "name": "ipython",
    "version": 3
   },
   "file_extension": ".py",
   "mimetype": "text/x-python",
   "name": "python",
   "nbconvert_exporter": "python",
   "pygments_lexer": "ipython3",
   "version": "3.10.8"
  }
 },
 "nbformat": 4,
 "nbformat_minor": 5
}
