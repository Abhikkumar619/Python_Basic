{
 "cells": [
  {
   "cell_type": "code",
   "execution_count": 1,
   "id": "4a61d62a-9f9d-4e5c-afb0-cdac5b1d1d28",
   "metadata": {},
   "outputs": [],
   "source": [
    "d={}"
   ]
  },
  {
   "cell_type": "code",
   "execution_count": 2,
   "id": "7158d5e8-ebcb-41f9-a047-196a49e7fdb9",
   "metadata": {},
   "outputs": [
    {
     "data": {
      "text/plain": [
       "dict"
      ]
     },
     "execution_count": 2,
     "metadata": {},
     "output_type": "execute_result"
    }
   ],
   "source": [
    "type(d)"
   ]
  },
  {
   "cell_type": "code",
   "execution_count": 3,
   "id": "d8ed64ea-d9a6-432d-85a3-4c244407b2cc",
   "metadata": {},
   "outputs": [],
   "source": [
    "d1={'key' :\"abishek\"}  #key shold be unique."
   ]
  },
  {
   "cell_type": "code",
   "execution_count": 4,
   "id": "5d5625b7-f18c-4c2c-ae10-de75197e56be",
   "metadata": {},
   "outputs": [
    {
     "data": {
      "text/plain": [
       "{'key': 'abishek'}"
      ]
     },
     "execution_count": 4,
     "metadata": {},
     "output_type": "execute_result"
    }
   ],
   "source": [
    "d1"
   ]
  },
  {
   "cell_type": "code",
   "execution_count": 5,
   "id": "9970677f-a26b-47a9-a4d9-4468ac4af1a4",
   "metadata": {},
   "outputs": [],
   "source": [
    "d2 = {'name': \"abishek\", \"email\": \"abisheky194@gmil.com\"}"
   ]
  },
  {
   "cell_type": "code",
   "execution_count": 6,
   "id": "4f711acd-387f-42f0-9cf1-37590f51c6a4",
   "metadata": {},
   "outputs": [
    {
     "data": {
      "text/plain": [
       "{'name': 'abishek', 'email': 'abisheky194@gmil.com'}"
      ]
     },
     "execution_count": 6,
     "metadata": {},
     "output_type": "execute_result"
    }
   ],
   "source": [
    "d2"
   ]
  },
  {
   "cell_type": "code",
   "execution_count": 12,
   "id": "ef8b1030-afef-4217-bf9e-277ccd3ec7dd",
   "metadata": {},
   "outputs": [],
   "source": [
    "d3 = {23: \"abjiik\", \"_ab\" : \"kumar\", True : \"341\"}"
   ]
  },
  {
   "cell_type": "code",
   "execution_count": 13,
   "id": "5118d3c9-69af-4fa4-91de-a1c02bdf236e",
   "metadata": {},
   "outputs": [
    {
     "data": {
      "text/plain": [
       "{23: 'abjiik', '_ab': 'kumar', True: '341'}"
      ]
     },
     "execution_count": 13,
     "metadata": {},
     "output_type": "execute_result"
    }
   ],
   "source": [
    "d3"
   ]
  },
  {
   "cell_type": "code",
   "execution_count": 14,
   "id": "7834f72c-7565-431a-b50b-f45cc3c4460e",
   "metadata": {},
   "outputs": [
    {
     "data": {
      "text/plain": [
       "'abjiik'"
      ]
     },
     "execution_count": 14,
     "metadata": {},
     "output_type": "execute_result"
    }
   ],
   "source": [
    "d3[23]  "
   ]
  },
  {
   "cell_type": "code",
   "execution_count": 15,
   "id": "568a6f9b-796b-4f11-b6bd-3050f6b0856f",
   "metadata": {},
   "outputs": [
    {
     "data": {
      "text/plain": [
       "'341'"
      ]
     },
     "execution_count": 15,
     "metadata": {},
     "output_type": "execute_result"
    }
   ],
   "source": [
    "d3[True]"
   ]
  },
  {
   "cell_type": "code",
   "execution_count": 16,
   "id": "71f4005a-e035-4b2a-8ed5-2392fec6eaea",
   "metadata": {},
   "outputs": [
    {
     "data": {
      "text/plain": [
       "'341'"
      ]
     },
     "execution_count": 16,
     "metadata": {},
     "output_type": "execute_result"
    }
   ],
   "source": [
    "d3[1]"
   ]
  },
  {
   "cell_type": "code",
   "execution_count": 21,
   "id": "7629ba70-df65-4b98-b540-09ceb5c5a935",
   "metadata": {},
   "outputs": [
    {
     "data": {
      "text/plain": [
       "'kumar'"
      ]
     },
     "execution_count": 21,
     "metadata": {},
     "output_type": "execute_result"
    }
   ],
   "source": [
    "d3['_ab']"
   ]
  },
  {
   "cell_type": "code",
   "execution_count": 25,
   "id": "ac7b888c-9688-4499-a65d-ba29f1991149",
   "metadata": {},
   "outputs": [],
   "source": [
    "d4={'name': 'aniaf', 'roll_num':123 , 'name': 'subash'}  #key should be unique. if we use dublicate key it overlapp by new value."
   ]
  },
  {
   "cell_type": "code",
   "execution_count": 24,
   "id": "aa784e05-3449-45a7-ae4c-18f0fa1967fb",
   "metadata": {},
   "outputs": [
    {
     "data": {
      "text/plain": [
       "'subash'"
      ]
     },
     "execution_count": 24,
     "metadata": {},
     "output_type": "execute_result"
    }
   ],
   "source": [
    "d4['name']"
   ]
  },
  {
   "cell_type": "code",
   "execution_count": 26,
   "id": "f61b1eb0-51f2-42f6-ac00-28524e526fd6",
   "metadata": {},
   "outputs": [],
   "source": [
    "d5={\"company\": 'pwakils', \"courses\": ['web dev', 'java with sys design', 'data science']}"
   ]
  },
  {
   "cell_type": "code",
   "execution_count": 27,
   "id": "2640f39e-da57-434d-b7ac-b744953e9b8e",
   "metadata": {},
   "outputs": [
    {
     "data": {
      "text/plain": [
       "{'company': 'pwakils',\n",
       " 'courses': ['web dev', 'java with sys design', 'data science']}"
      ]
     },
     "execution_count": 27,
     "metadata": {},
     "output_type": "execute_result"
    }
   ],
   "source": [
    "d5"
   ]
  },
  {
   "cell_type": "code",
   "execution_count": 28,
   "id": "6bfa49a9-0472-4ece-b605-f827a5089b27",
   "metadata": {},
   "outputs": [
    {
     "data": {
      "text/plain": [
       "'data science'"
      ]
     },
     "execution_count": 28,
     "metadata": {},
     "output_type": "execute_result"
    }
   ],
   "source": [
    "d5[\"courses\"][2]"
   ]
  },
  {
   "cell_type": "code",
   "execution_count": 31,
   "id": "212e506e-4de9-49f4-9721-d3b812814166",
   "metadata": {},
   "outputs": [],
   "source": [
    "d6={\"number\": [1,2,334,3], \"assignment\": (1,24,5,34,32,), \"lunchdata\":{12,423,5522}, \"classtime\": {\"data science\": 3, \"webdev\": 5}}"
   ]
  },
  {
   "cell_type": "code",
   "execution_count": 32,
   "id": "5703d9c3-72cb-4598-8211-08367ec0d574",
   "metadata": {},
   "outputs": [
    {
     "data": {
      "text/plain": [
       "{'number': [1, 2, 334, 3],\n",
       " 'assignment': (1, 24, 5, 34, 32),\n",
       " 'lunchdata': {12, 423, 5522},\n",
       " 'classtime': {'data science': 3, 'webdev': 5}}"
      ]
     },
     "execution_count": 32,
     "metadata": {},
     "output_type": "execute_result"
    }
   ],
   "source": [
    "d6   # as dict you can use any collection inside dic."
   ]
  },
  {
   "cell_type": "code",
   "execution_count": 35,
   "id": "7c51d257-d324-48e4-8ab5-0f0401d95475",
   "metadata": {},
   "outputs": [
    {
     "data": {
      "text/plain": [
       "5"
      ]
     },
     "execution_count": 35,
     "metadata": {},
     "output_type": "execute_result"
    }
   ],
   "source": [
    "d6[\"classtime\"]['webdev']"
   ]
  },
  {
   "cell_type": "code",
   "execution_count": 37,
   "id": "de64ab7c-a228-4a10-9a9a-8894787dfb70",
   "metadata": {},
   "outputs": [],
   "source": [
    "d6['mentor']=[\"abhik\", \"subash\", \"rishv\"]  # to add new value, if it already exists update the older one"
   ]
  },
  {
   "cell_type": "markdown",
   "id": "860ac3e7-543e-43f9-a5bb-1ffe418059f6",
   "metadata": {},
   "source": [
    "d6[]"
   ]
  },
  {
   "cell_type": "code",
   "execution_count": 38,
   "id": "e9194acf-3c9f-4e2b-ba18-b12e71a59e12",
   "metadata": {},
   "outputs": [
    {
     "data": {
      "text/plain": [
       "{'number': [1, 2, 334, 3],\n",
       " 'assignment': (1, 24, 5, 34, 32),\n",
       " 'lunchdata': {12, 423, 5522},\n",
       " 'classtime': {'data science': 3, 'webdev': 5},\n",
       " 'mentor': ['abhik', 'subash', 'rishv']}"
      ]
     },
     "execution_count": 38,
     "metadata": {},
     "output_type": "execute_result"
    }
   ],
   "source": [
    "d6"
   ]
  },
  {
   "cell_type": "code",
   "execution_count": 39,
   "id": "5256400e-c482-4dc3-b0fc-d2393acf057a",
   "metadata": {},
   "outputs": [],
   "source": [
    "del d6['number']   # to delete key"
   ]
  },
  {
   "cell_type": "code",
   "execution_count": 40,
   "id": "83e0334f-e277-45f9-809b-e4b406e48159",
   "metadata": {},
   "outputs": [
    {
     "data": {
      "text/plain": [
       "{'assignment': (1, 24, 5, 34, 32),\n",
       " 'lunchdata': {12, 423, 5522},\n",
       " 'classtime': {'data science': 3, 'webdev': 5},\n",
       " 'mentor': ['abhik', 'subash', 'rishv']}"
      ]
     },
     "execution_count": 40,
     "metadata": {},
     "output_type": "execute_result"
    }
   ],
   "source": [
    "d6"
   ]
  },
  {
   "cell_type": "code",
   "execution_count": 42,
   "id": "eb6e7bd5-59da-4a14-b715-cd51de5700d1",
   "metadata": {},
   "outputs": [
    {
     "data": {
      "text/plain": [
       "dict_keys(['assignment', 'lunchdata', 'classtime', 'mentor'])"
      ]
     },
     "execution_count": 42,
     "metadata": {},
     "output_type": "execute_result"
    }
   ],
   "source": [
    "d6.keys()"
   ]
  },
  {
   "cell_type": "code",
   "execution_count": 43,
   "id": "e232090d-dee2-4195-809e-6328b058b571",
   "metadata": {},
   "outputs": [
    {
     "data": {
      "text/plain": [
       "['assignment', 'lunchdata', 'classtime', 'mentor']"
      ]
     },
     "execution_count": 43,
     "metadata": {},
     "output_type": "execute_result"
    }
   ],
   "source": [
    "list(d6.keys())"
   ]
  },
  {
   "cell_type": "code",
   "execution_count": 44,
   "id": "19432c4c-2127-49e9-b936-2a2273247fe4",
   "metadata": {},
   "outputs": [
    {
     "data": {
      "text/plain": [
       "[(1, 24, 5, 34, 32),\n",
       " {12, 423, 5522},\n",
       " {'data science': 3, 'webdev': 5},\n",
       " ['abhik', 'subash', 'rishv']]"
      ]
     },
     "execution_count": 44,
     "metadata": {},
     "output_type": "execute_result"
    }
   ],
   "source": [
    "list(d6.values())"
   ]
  },
  {
   "cell_type": "code",
   "execution_count": 45,
   "id": "890691fb-dd40-46b0-875b-defa10ef131c",
   "metadata": {},
   "outputs": [
    {
     "data": {
      "text/plain": [
       "dict_items([('assignment', (1, 24, 5, 34, 32)), ('lunchdata', {5522, 12, 423}), ('classtime', {'data science': 3, 'webdev': 5}), ('mentor', ['abhik', 'subash', 'rishv'])])"
      ]
     },
     "execution_count": 45,
     "metadata": {},
     "output_type": "execute_result"
    }
   ],
   "source": [
    "d6.items()"
   ]
  },
  {
   "cell_type": "code",
   "execution_count": 46,
   "id": "b69cf043-6413-46a7-beed-0403c5878f3b",
   "metadata": {},
   "outputs": [
    {
     "data": {
      "text/plain": [
       "[('assignment', (1, 24, 5, 34, 32)),\n",
       " ('lunchdata', {12, 423, 5522}),\n",
       " ('classtime', {'data science': 3, 'webdev': 5}),\n",
       " ('mentor', ['abhik', 'subash', 'rishv'])]"
      ]
     },
     "execution_count": 46,
     "metadata": {},
     "output_type": "execute_result"
    }
   ],
   "source": [
    "list(d6.items())  "
   ]
  },
  {
   "cell_type": "code",
   "execution_count": 47,
   "id": "fe9f27ff-8e52-45dd-9088-d330ea92f899",
   "metadata": {},
   "outputs": [
    {
     "data": {
      "text/plain": [
       "(1, 24, 5, 34, 32)"
      ]
     },
     "execution_count": 47,
     "metadata": {},
     "output_type": "execute_result"
    }
   ],
   "source": [
    "d6.pop('assignment')"
   ]
  },
  {
   "cell_type": "code",
   "execution_count": 48,
   "id": "0ca9e10d-b3f7-4726-921f-e099e98b48f5",
   "metadata": {},
   "outputs": [
    {
     "data": {
      "text/plain": [
       "{'lunchdata': {12, 423, 5522},\n",
       " 'classtime': {'data science': 3, 'webdev': 5},\n",
       " 'mentor': ['abhik', 'subash', 'rishv']}"
      ]
     },
     "execution_count": 48,
     "metadata": {},
     "output_type": "execute_result"
    }
   ],
   "source": [
    "d6"
   ]
  },
  {
   "cell_type": "code",
   "execution_count": 49,
   "id": "8749c16f-b919-4e8a-88cb-0084660b50de",
   "metadata": {},
   "outputs": [
    {
     "ename": "TypeError",
     "evalue": "pop expected at least 1 argument, got 0",
     "output_type": "error",
     "traceback": [
      "\u001b[0;31m---------------------------------------------------------------------------\u001b[0m",
      "\u001b[0;31mTypeError\u001b[0m                                 Traceback (most recent call last)",
      "Cell \u001b[0;32mIn[49], line 1\u001b[0m\n\u001b[0;32m----> 1\u001b[0m \u001b[43md6\u001b[49m\u001b[38;5;241;43m.\u001b[39;49m\u001b[43mpop\u001b[49m\u001b[43m(\u001b[49m\u001b[43m)\u001b[49m\n",
      "\u001b[0;31mTypeError\u001b[0m: pop expected at least 1 argument, got 0"
     ]
    }
   ],
   "source": [
    "d6.pop()  "
   ]
  },
  {
   "cell_type": "code",
   "execution_count": 53,
   "id": "5a3cfaa8-7640-4993-8487-350e9cff7b7d",
   "metadata": {},
   "outputs": [
    {
     "name": "stdin",
     "output_type": "stream",
     "text": [
      "Enter mark 131\n"
     ]
    },
    {
     "name": "stdout",
     "output_type": "stream",
     "text": [
      "bhai kay karha he tu\n"
     ]
    }
   ],
   "source": [
    "mark=int(input(\"Enter mark\"))\n",
    "if mark>90 and mark<=100:\n",
    "    print(\"Excallent\")\n",
    "elif mark>=80 and mark<=90:\n",
    "    print(\"very good\")\n",
    "elif mark>=70 and mark<=80:\n",
    "    print(\"good\")\n",
    "else:\n",
    "    print(\"bhai kay karha he tu\")"
   ]
  },
  {
   "cell_type": "code",
   "execution_count": 57,
   "id": "cf9e1489-f945-46ee-a81e-6a50a8107cd0",
   "metadata": {},
   "outputs": [
    {
     "name": "stdin",
     "output_type": "stream",
     "text": [
      "Enter price:  1900\n"
     ]
    },
    {
     "name": "stdout",
     "output_type": "stream",
     "text": [
      "i will purchase\n",
      "it is ok\n"
     ]
    }
   ],
   "source": [
    "price=int(input(\"Enter price: \"))\n",
    "if price>1000:\n",
    "    print(\"i will purchase\")\n",
    "    if price > 5000:\n",
    "        print(\"this is too much\")\n",
    "    elif price < 2000:\n",
    "        print(\"it is ok\")\n",
    "    else:\n",
    "        print(\"chal bhai thike haie\")"
   ]
  },
  {
   "cell_type": "code",
   "execution_count": 58,
   "id": "31395165-c352-4af2-a5f3-6125ebb8045c",
   "metadata": {},
   "outputs": [],
   "source": [
    "l=[1,34,4,23,12,42,41,2,42,41,2,1,2,5]\n"
   ]
  },
  {
   "cell_type": "code",
   "execution_count": 59,
   "id": "e241d4f7-3dd1-4a94-935c-3d9328317c6b",
   "metadata": {},
   "outputs": [
    {
     "data": {
      "text/plain": [
       "2"
      ]
     },
     "execution_count": 59,
     "metadata": {},
     "output_type": "execute_result"
    }
   ],
   "source": [
    "l[0]+1"
   ]
  },
  {
   "cell_type": "code",
   "execution_count": 63,
   "id": "2142a566-be84-4fd6-8d57-fd7d2793d72c",
   "metadata": {},
   "outputs": [],
   "source": [
    "l1=[]"
   ]
  },
  {
   "cell_type": "code",
   "execution_count": 64,
   "id": "1ace8a1f-cbbb-48e5-9a4c-1ef963344881",
   "metadata": {},
   "outputs": [],
   "source": [
    "l1.append(l[0] +1)"
   ]
  },
  {
   "cell_type": "code",
   "execution_count": 65,
   "id": "ab3b8481-4ecf-407f-ab45-694375f74e19",
   "metadata": {},
   "outputs": [
    {
     "data": {
      "text/plain": [
       "[2]"
      ]
     },
     "execution_count": 65,
     "metadata": {},
     "output_type": "execute_result"
    }
   ],
   "source": [
    "l1"
   ]
  },
  {
   "cell_type": "code",
   "execution_count": 73,
   "id": "5be50520-c188-4c84-993c-43d34a66ea83",
   "metadata": {},
   "outputs": [
    {
     "name": "stdout",
     "output_type": "stream",
     "text": [
      "2\n",
      "35\n",
      "5\n",
      "24\n",
      "13\n",
      "43\n",
      "42\n",
      "3\n",
      "43\n",
      "42\n",
      "3\n",
      "2\n",
      "3\n",
      "6\n"
     ]
    },
    {
     "data": {
      "text/plain": [
       "[2, 35, 5, 24, 13, 43, 42, 3, 43, 42, 3, 2, 3, 6]"
      ]
     },
     "execution_count": 73,
     "metadata": {},
     "output_type": "execute_result"
    }
   ],
   "source": [
    "l1=[]\n",
    "for i in l:\n",
    "    print(i+1)\n",
    "    l1.append(i+1)\n",
    "l1"
   ]
  },
  {
   "cell_type": "code",
   "execution_count": 72,
   "id": "bf6e6eb0-e2db-4673-99b4-069a2df3ad8a",
   "metadata": {},
   "outputs": [
    {
     "data": {
      "text/plain": [
       "[2, 35, 5, 24, 13, 43, 42, 3, 43, 42, 3, 2, 3, 6]"
      ]
     },
     "execution_count": 72,
     "metadata": {},
     "output_type": "execute_result"
    }
   ],
   "source": [
    "l1"
   ]
  },
  {
   "cell_type": "code",
   "execution_count": 85,
   "id": "abba6f48-8c2a-48eb-82fa-6036a2aedd70",
   "metadata": {},
   "outputs": [
    {
     "name": "stdout",
     "output_type": "stream",
     "text": [
      "abhik\n",
      "kumar\n",
      "yadav\n"
     ]
    },
    {
     "data": {
      "text/plain": [
       "['ABHIK', 'KUMAR', 'YADAV']"
      ]
     },
     "execution_count": 85,
     "metadata": {},
     "output_type": "execute_result"
    }
   ],
   "source": [
    "l2=[]\n",
    "l=[\"abhik\",\"kumar\", \"yadav\"]\n",
    "for i in l:\n",
    "    print(i)\n",
    "    l2.append(i.upper())\n",
    "l2"
   ]
  },
  {
   "cell_type": "code",
   "execution_count": 87,
   "id": "eb155379-f591-4343-a797-681cb83f470c",
   "metadata": {},
   "outputs": [],
   "source": [
    "l3=[1,2,3,4,\"abhik\", \"kumar\",432,2.34,\"yadav\"]\n"
   ]
  },
  {
   "cell_type": "code",
   "execution_count": 89,
   "id": "0551c850-2096-45b6-81f1-ddef8682e020",
   "metadata": {},
   "outputs": [
    {
     "data": {
      "text/plain": [
       "['abhik', 'kumar', 'yadav']"
      ]
     },
     "execution_count": 89,
     "metadata": {},
     "output_type": "execute_result"
    }
   ],
   "source": [
    "l4_num=[]\n",
    "l5_str=[]\n",
    "for i in l3:\n",
    "    if type(i)==int or type(i)==float:\n",
    "        l4_num.append(i)\n",
    "    else:\n",
    "        l5_str.append(i)\n",
    "    \n",
    "\n",
    "l5_str"
   ]
  },
  {
   "cell_type": "code",
   "execution_count": 90,
   "id": "02bb611b-c0cf-462d-bedb-f765568cd79f",
   "metadata": {},
   "outputs": [
    {
     "data": {
      "text/plain": [
       "[1, 2, 3, 4, 432, 2.34]"
      ]
     },
     "execution_count": 90,
     "metadata": {},
     "output_type": "execute_result"
    }
   ],
   "source": [
    "l4_num"
   ]
  },
  {
   "cell_type": "code",
   "execution_count": null,
   "id": "f8ce9495-fbe0-42cd-bdd3-696c41164408",
   "metadata": {},
   "outputs": [],
   "source": []
  }
 ],
 "metadata": {
  "kernelspec": {
   "display_name": "Python 3 (ipykernel)",
   "language": "python",
   "name": "python3"
  },
  "language_info": {
   "codemirror_mode": {
    "name": "ipython",
    "version": 3
   },
   "file_extension": ".py",
   "mimetype": "text/x-python",
   "name": "python",
   "nbconvert_exporter": "python",
   "pygments_lexer": "ipython3",
   "version": "3.10.8"
  }
 },
 "nbformat": 4,
 "nbformat_minor": 5
}
