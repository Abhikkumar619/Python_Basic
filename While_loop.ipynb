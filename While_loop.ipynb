{
 "cells": [
  {
   "cell_type": "code",
   "execution_count": 1,
   "id": "41248d2d-ef49-4429-bdb6-a999f86ff385",
   "metadata": {},
   "outputs": [
    {
     "name": "stdout",
     "output_type": "stream",
     "text": [
      "1\n",
      "2\n",
      "3\n",
      "4\n",
      "5\n",
      "6\n",
      "7\n",
      "8\n",
      "9\n",
      "10\n"
     ]
    }
   ],
   "source": [
    "a=1\n",
    "while a<=10:\n",
    "    print(a)\n",
    "    a=a+1"
   ]
  },
  {
   "cell_type": "code",
   "execution_count": 3,
   "id": "67fff7e6-02e5-425d-98db-2203a6ca8c76",
   "metadata": {},
   "outputs": [
    {
     "name": "stdin",
     "output_type": "stream",
     "text": [
      "Enter your limit:  5\n"
     ]
    },
    {
     "data": {
      "text/plain": [
       "15"
      ]
     },
     "execution_count": 3,
     "metadata": {},
     "output_type": "execute_result"
    }
   ],
   "source": [
    "n=int(input(\"Enter your limit: \"))\n",
    "starting_point =0;\n",
    "counter=1\n",
    "while counter <=n:\n",
    "    starting_point = starting_point + counter\n",
    "    counter=counter +  1\n",
    "starting_point\n",
    "\n",
    "\n",
    "    "
   ]
  },
  {
   "cell_type": "code",
   "execution_count": 4,
   "id": "0f4d266b-1c75-40a8-8082-8666220c8ed4",
   "metadata": {},
   "outputs": [
    {
     "name": "stdin",
     "output_type": "stream",
     "text": [
      "Enter your factorial 5\n"
     ]
    },
    {
     "data": {
      "text/plain": [
       "120"
      ]
     },
     "execution_count": 4,
     "metadata": {},
     "output_type": "execute_result"
    }
   ],
   "source": [
    "n=int(input(\"Enter your factorial\"))\n",
    "factorial=1\n",
    "while n>0:\n",
    "    factorial=factorial*n\n",
    "    n=n-1\n",
    "factorial\n"
   ]
  },
  {
   "cell_type": "code",
   "execution_count": 7,
   "id": "5eb75b40-1a99-4b83-83f4-76ae90c33aea",
   "metadata": {},
   "outputs": [
    {
     "name": "stdin",
     "output_type": "stream",
     "text": [
      "Enter the number of element 5\n"
     ]
    },
    {
     "name": "stdout",
     "output_type": "stream",
     "text": [
      "0\n",
      "1\n",
      "1\n",
      "2\n",
      "3\n"
     ]
    }
   ],
   "source": [
    "#finonacci serice\n",
    "n=int(input(\"Enter the number of element\"))\n",
    "a=0\n",
    "b=1\n",
    "cout=0\n",
    "while cout <n:\n",
    "    print(a)\n",
    "    c=a+b\n",
    "    a=b\n",
    "    b=c\n",
    "    cout=cout+1\n",
    "    "
   ]
  },
  {
   "cell_type": "code",
   "execution_count": 1,
   "id": "26cd5d52-1011-4e20-9297-fd93da008a8c",
   "metadata": {},
   "outputs": [],
   "source": [
    "s=\"abishek\"\n"
   ]
  },
  {
   "cell_type": "code",
   "execution_count": 2,
   "id": "786390c4-3621-492e-aa7b-546c2a8055f9",
   "metadata": {},
   "outputs": [
    {
     "data": {
      "text/plain": [
       "'kehsiba'"
      ]
     },
     "execution_count": 2,
     "metadata": {},
     "output_type": "execute_result"
    }
   ],
   "source": [
    "s[::-1]"
   ]
  },
  {
   "cell_type": "code",
   "execution_count": 8,
   "id": "ebe8fefa-5323-4503-bd5e-823f901585e7",
   "metadata": {},
   "outputs": [
    {
     "name": "stdin",
     "output_type": "stream",
     "text": [
      "Enter your string for reverse abishek\n"
     ]
    },
    {
     "name": "stdout",
     "output_type": "stream",
     "text": [
      "kehsiba\n"
     ]
    }
   ],
   "source": [
    "word =input(\"Enter your string for reverse\")\n",
    "reverse=\"\"\n",
    "length=len(word)\n",
    "# print(length)\n",
    "while length>0:\n",
    "    reverse=reverse+word[length-1]\n",
    "    length=length-1\n",
    "print(reverse)"
   ]
  },
  {
   "cell_type": "code",
   "execution_count": 10,
   "id": "d05f737c-93b3-4605-a03d-068f6b23d6f2",
   "metadata": {},
   "outputs": [],
   "source": [
    "a=\"\"+word[1]"
   ]
  },
  {
   "cell_type": "code",
   "execution_count": 11,
   "id": "9b9c616e-6abb-4c30-8dd4-adc5985d8b34",
   "metadata": {},
   "outputs": [
    {
     "data": {
      "text/plain": [
       "'b'"
      ]
     },
     "execution_count": 11,
     "metadata": {},
     "output_type": "execute_result"
    }
   ],
   "source": [
    "a"
   ]
  },
  {
   "cell_type": "code",
   "execution_count": 19,
   "id": "5f1dec06-38bc-4291-a846-713c6cae967a",
   "metadata": {},
   "outputs": [
    {
     "name": "stdin",
     "output_type": "stream",
     "text": [
      "Enter number 21\n"
     ]
    },
    {
     "name": "stdout",
     "output_type": "stream",
     "text": [
      "21 X 1 = 21\n",
      "21 X 2 = 42\n",
      "21 X 3 = 63\n",
      "21 X 4 = 84\n",
      "21 X 5 = 105\n",
      "21 X 6 = 126\n",
      "21 X 7 = 147\n",
      "21 X 8 = 168\n",
      "21 X 9 = 189\n",
      "21 X 10 = 210\n"
     ]
    }
   ],
   "source": [
    "# print table of number\n",
    "num=int(input(\"Enter number\"))\n",
    "i=1\n",
    "while i<=10:\n",
    "    print(num ,'X', i, '=',num*i)\n",
    "    i=i+1"
   ]
  },
  {
   "cell_type": "code",
   "execution_count": 23,
   "id": "97d33c74-d300-4ce5-b228-d488a61f47f7",
   "metadata": {},
   "outputs": [
    {
     "name": "stdout",
     "output_type": "stream",
     "text": [
      "1\n",
      "2\n",
      "3\n"
     ]
    }
   ],
   "source": [
    "n=5\n",
    "i=1\n",
    "while i<n:\n",
    "    print(i)\n",
    "    if i==3:\n",
    "        break\n",
    "    i=i+1\n",
    "else:\n",
    "    print(\"This else will execute after while condition comlected\")"
   ]
  },
  {
   "cell_type": "code",
   "execution_count": null,
   "id": "a025140c-62a6-46a2-948b-02d9915dae58",
   "metadata": {},
   "outputs": [],
   "source": []
  }
 ],
 "metadata": {
  "kernelspec": {
   "display_name": "Python 3 (ipykernel)",
   "language": "python",
   "name": "python3"
  },
  "language_info": {
   "codemirror_mode": {
    "name": "ipython",
    "version": 3
   },
   "file_extension": ".py",
   "mimetype": "text/x-python",
   "name": "python",
   "nbconvert_exporter": "python",
   "pygments_lexer": "ipython3",
   "version": "3.10.8"
  }
 },
 "nbformat": 4,
 "nbformat_minor": 5
}
