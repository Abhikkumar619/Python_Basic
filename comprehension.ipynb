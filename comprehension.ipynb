{
 "cells": [
  {
   "cell_type": "code",
   "execution_count": 5,
   "id": "607ffc2f-8bf2-4894-a082-20e7cb1c23c0",
   "metadata": {},
   "outputs": [],
   "source": [
    "l=[1,2,4,3,5,7]\n",
    "l1=[]\n",
    "for i in l:\n",
    "    l1.append(i**2)"
   ]
  },
  {
   "cell_type": "code",
   "execution_count": 2,
   "id": "33cba89a-ba13-4779-9712-4d53e66564fb",
   "metadata": {},
   "outputs": [
    {
     "data": {
      "text/plain": [
       "[1, 4, 9, 25, 49]"
      ]
     },
     "execution_count": 2,
     "metadata": {},
     "output_type": "execute_result"
    }
   ],
   "source": [
    "l1"
   ]
  },
  {
   "cell_type": "code",
   "execution_count": 3,
   "id": "a421f891-04a3-4840-b1d6-d2d892585e45",
   "metadata": {},
   "outputs": [
    {
     "data": {
      "text/plain": [
       "[1, 4, 9, 25, 49]"
      ]
     },
     "execution_count": 3,
     "metadata": {},
     "output_type": "execute_result"
    }
   ],
   "source": [
    "[i**2 for i in l] #comprehension"
   ]
  },
  {
   "cell_type": "code",
   "execution_count": 6,
   "id": "5f695eb5-1716-4752-bd93-7adb39540f0a",
   "metadata": {},
   "outputs": [
    {
     "data": {
      "text/plain": [
       "[2, 4]"
      ]
     },
     "execution_count": 6,
     "metadata": {},
     "output_type": "execute_result"
    }
   ],
   "source": [
    "[i for i in l if i%2==0]"
   ]
  },
  {
   "cell_type": "code",
   "execution_count": 7,
   "id": "6625b5c6-ccab-48db-8b8a-c859c8fbef0a",
   "metadata": {},
   "outputs": [],
   "source": [
    "l2=[\"abishek\",\"datascience\", \"pwskils\"]"
   ]
  },
  {
   "cell_type": "code",
   "execution_count": 8,
   "id": "b767d010-aa9a-48fd-a43e-92bcc5f68104",
   "metadata": {},
   "outputs": [
    {
     "data": {
      "text/plain": [
       "['ABISHEK', 'DATASCIENCE', 'PWSKILS']"
      ]
     },
     "execution_count": 8,
     "metadata": {},
     "output_type": "execute_result"
    }
   ],
   "source": [
    "[i.upper() for i in l2 ]\n",
    "#list compreshion"
   ]
  },
  {
   "cell_type": "code",
   "execution_count": 9,
   "id": "80b9eaac-7792-4ad6-82bd-13af522c31e8",
   "metadata": {},
   "outputs": [
    {
     "data": {
      "text/plain": [
       "[1, 4, 16, 9, 25, 49]"
      ]
     },
     "execution_count": 9,
     "metadata": {},
     "output_type": "execute_result"
    }
   ],
   "source": [
    "#  compehesion\n",
    "l1\n"
   ]
  },
  {
   "cell_type": "code",
   "execution_count": 12,
   "id": "849ec421-4335-4b09-8f39-620f1bec88ea",
   "metadata": {},
   "outputs": [
    {
     "data": {
      "text/plain": [
       "(1, 16, 256, 81, 625, 2401)"
      ]
     },
     "execution_count": 12,
     "metadata": {},
     "output_type": "execute_result"
    }
   ],
   "source": [
    "tuple(i**2 for i in l1)"
   ]
  },
  {
   "cell_type": "code",
   "execution_count": 13,
   "id": "b7bfa428-21bf-4957-875a-880d99535911",
   "metadata": {},
   "outputs": [],
   "source": [
    "d={\"KEY1\": 1, \"KEY2\":2, \"KEY3\":3}"
   ]
  },
  {
   "cell_type": "code",
   "execution_count": 16,
   "id": "0f02ffea-7858-43b3-bb7d-79e46529c527",
   "metadata": {},
   "outputs": [
    {
     "data": {
      "text/plain": [
       "{'KEY1': 1, 'KEY2': 2, 'KEY3': 3}"
      ]
     },
     "execution_count": 16,
     "metadata": {},
     "output_type": "execute_result"
    }
   ],
   "source": [
    "d"
   ]
  },
  {
   "cell_type": "code",
   "execution_count": 20,
   "id": "6eb6f013-af09-49ea-b9eb-431cae2d9595",
   "metadata": {},
   "outputs": [
    {
     "data": {
      "text/plain": [
       "{'KEY1': 1, 'KEY2': 4, 'KEY3': 9}"
      ]
     },
     "execution_count": 20,
     "metadata": {},
     "output_type": "execute_result"
    }
   ],
   "source": [
    "{k:v**2 for k , v in d.items()}"
   ]
  },
  {
   "cell_type": "code",
   "execution_count": 19,
   "id": "7eae386e-7462-4348-88cc-112629c6ce50",
   "metadata": {},
   "outputs": [
    {
     "ename": "SyntaxError",
     "evalue": "invalid syntax (2986056133.py, line 1)",
     "output_type": "error",
     "traceback": [
      "\u001b[0;36m  Cell \u001b[0;32mIn[19], line 1\u001b[0;36m\u001b[0m\n\u001b[0;31m    {for k , v in d.items()}\u001b[0m\n\u001b[0m     ^\u001b[0m\n\u001b[0;31mSyntaxError\u001b[0m\u001b[0;31m:\u001b[0m invalid syntax\n"
     ]
    }
   ],
   "source": [
    "{k:v**2 for k , v in d.items()}"
   ]
  },
  {
   "cell_type": "code",
   "execution_count": 18,
   "id": "c5b74433-5960-409f-93af-8d4847a77c68",
   "metadata": {},
   "outputs": [
    {
     "data": {
      "text/plain": [
       "dict_items([('KEY1', 1), ('KEY2', 2), ('KEY3', 3)])"
      ]
     },
     "execution_count": 18,
     "metadata": {},
     "output_type": "execute_result"
    }
   ],
   "source": [
    "d.items()"
   ]
  },
  {
   "cell_type": "code",
   "execution_count": 21,
   "id": "ee277383-239a-40c1-a393-4f3f6b66094d",
   "metadata": {},
   "outputs": [
    {
     "data": {
      "text/plain": [
       "{'KEY1': 1, 'KEY2': 2, 'KEY3': 3}"
      ]
     },
     "execution_count": 21,
     "metadata": {},
     "output_type": "execute_result"
    }
   ],
   "source": [
    "d"
   ]
  },
  {
   "cell_type": "code",
   "execution_count": 27,
   "id": "c4cbee43-ad1c-4035-8682-658948f78d1d",
   "metadata": {},
   "outputs": [
    {
     "data": {
      "text/plain": [
       "{'KEY2': 2, 'KEY3': 3}"
      ]
     },
     "execution_count": 27,
     "metadata": {},
     "output_type": "execute_result"
    }
   ],
   "source": [
    "{k : v for k, v in d.items() if v>1}"
   ]
  },
  {
   "cell_type": "code",
   "execution_count": null,
   "id": "6976e3bf-4157-4fdf-841b-709f7560f9e8",
   "metadata": {},
   "outputs": [],
   "source": []
  }
 ],
 "metadata": {
  "kernelspec": {
   "display_name": "Python 3 (ipykernel)",
   "language": "python",
   "name": "python3"
  },
  "language_info": {
   "codemirror_mode": {
    "name": "ipython",
    "version": 3
   },
   "file_extension": ".py",
   "mimetype": "text/x-python",
   "name": "python",
   "nbconvert_exporter": "python",
   "pygments_lexer": "ipython3",
   "version": "3.10.8"
  }
 },
 "nbformat": 4,
 "nbformat_minor": 5
}
